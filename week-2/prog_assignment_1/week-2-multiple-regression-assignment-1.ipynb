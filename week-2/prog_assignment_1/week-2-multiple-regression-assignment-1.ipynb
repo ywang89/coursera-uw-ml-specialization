{
 "cells": [
  {
   "cell_type": "markdown",
   "metadata": {},
   "source": [
    "# Regression Week 2: Multiple Regression (Interpretation)"
   ]
  },
  {
   "cell_type": "markdown",
   "metadata": {},
   "source": [
    "The goal of this first notebook is to explore multiple regression and feature engineering with existing graphlab functions.\n",
    "\n",
    "In this notebook you will use data on house sales in King County to predict prices using multiple regression. You will:\n",
    "* Use SFrames to do some feature engineering\n",
    "* Use built-in graphlab functions to compute the regression weights (coefficients/parameters)\n",
    "* Given the regression weights, predictors and outcome write a function to compute the Residual Sum of Squares\n",
    "* Look at coefficients and interpret their meanings\n",
    "* Evaluate multiple models via RSS"
   ]
  },
  {
   "cell_type": "markdown",
   "metadata": {},
   "source": [
    "# Fire up graphlab create"
   ]
  },
  {
   "cell_type": "code",
   "execution_count": 1,
   "metadata": {},
   "outputs": [],
   "source": [
    "# import graphlab\n",
    "\n",
    "import numpy as np\n",
    "import pandas as pd\n",
    "from sklearn.linear_model import LinearRegression"
   ]
  },
  {
   "cell_type": "markdown",
   "metadata": {},
   "source": [
    "# Load in house sales data\n",
    "\n",
    "Dataset is from house sales in King County, the region where the city of Seattle, WA is located."
   ]
  },
  {
   "cell_type": "code",
   "execution_count": 2,
   "metadata": {
    "scrolled": true
   },
   "outputs": [],
   "source": [
    "# sales = graphlab.SFrame('kc_house_data.gl/')\n",
    "\n",
    "sales = pd.read_csv('kc_house_data.csv', \n",
    "                    dtype = {'bathrooms':float, 'waterfront':int, 'sqft_above':int, 'sqft_living15':float, 'grade':int, 'yr_renovated':int, 'price':float, 'bedrooms':float, 'zipcode':str, 'long':float, 'sqft_lot15':float, 'sqft_living':float, 'floors':str, 'condition':int, 'lat':float, 'date':str, 'sqft_basement':int, 'yr_built':int, 'id':str, 'sqft_lot':int, 'view':int})"
   ]
  },
  {
   "cell_type": "markdown",
   "metadata": {},
   "source": [
    "# Split data into training and testing.\n",
    "We use seed=0 so that everyone running this notebook gets the same results.  In practice, you may set a random seed (or let GraphLab Create pick a random seed for you).  "
   ]
  },
  {
   "cell_type": "code",
   "execution_count": 3,
   "metadata": {},
   "outputs": [],
   "source": [
    "# train_data,test_data = sales.random_split(.8,seed=0)\n",
    "\n",
    "train_data = pd.read_csv('kc_house_train_data.csv', \n",
    "                         dtype = {'bathrooms':float, 'waterfront':int, 'sqft_above':int, 'sqft_living15':float, 'grade':int, 'yr_renovated':int, 'price':float, 'bedrooms':float, 'zipcode':str, 'long':float, 'sqft_lot15':float, 'sqft_living':float, 'floors':str, 'condition':int, 'lat':float, 'date':str, 'sqft_basement':int, 'yr_built':int, 'id':str, 'sqft_lot':int, 'view':int})\n",
    "\n",
    "test_data = pd.read_csv('kc_house_test_data.csv', \n",
    "                         dtype = {'bathrooms':float, 'waterfront':int, 'sqft_above':int, 'sqft_living15':float, 'grade':int, 'yr_renovated':int, 'price':float, 'bedrooms':float, 'zipcode':str, 'long':float, 'sqft_lot15':float, 'sqft_living':float, 'floors':str, 'condition':int, 'lat':float, 'date':str, 'sqft_basement':int, 'yr_built':int, 'id':str, 'sqft_lot':int, 'view':int})"
   ]
  },
  {
   "cell_type": "markdown",
   "metadata": {},
   "source": [
    "# Learning a multiple regression model"
   ]
  },
  {
   "cell_type": "markdown",
   "metadata": {},
   "source": [
    "Recall we can use the following code to learn a multiple regression model predicting 'price' based on the following features:\n",
    "example_features = ['sqft_living', 'bedrooms', 'bathrooms'] on training data with the following code:\n",
    "\n",
    "(Aside: We set validation_set = None to ensure that the results are always the same)"
   ]
  },
  {
   "cell_type": "code",
   "execution_count": 4,
   "metadata": {},
   "outputs": [
    {
     "data": {
      "text/plain": [
       "LinearRegression(copy_X=True, fit_intercept=True, n_jobs=None,\n",
       "         normalize=False)"
      ]
     },
     "execution_count": 4,
     "metadata": {},
     "output_type": "execute_result"
    }
   ],
   "source": [
    "# example_features = ['sqft_living', 'bedrooms', 'bathrooms']\n",
    "# example_model = graphlab.linear_regression.create(train_data, target = 'price', features = example_features, \n",
    "#                                                  validation_set = None)\n",
    "\n",
    "reg = LinearRegression()\n",
    "reg.fit(train_data.loc[:, ['sqft_living', 'bedrooms', 'bathrooms']], \n",
    "        train_data.loc[:, ['price']])"
   ]
  },
  {
   "cell_type": "markdown",
   "metadata": {},
   "source": [
    "Now that we have fitted the model we can extract the regression weights (coefficients) as an SFrame as follows:"
   ]
  },
  {
   "cell_type": "code",
   "execution_count": 5,
   "metadata": {},
   "outputs": [
    {
     "name": "stdout",
     "output_type": "stream",
     "text": [
      "Coefficients: \n",
      " [[   315.40669062 -65081.88711588   6942.16598637]]\n"
     ]
    }
   ],
   "source": [
    "# example_weight_summary = example_model.get(\"coefficients\")\n",
    "# print example_weight_summary\n",
    "\n",
    "print('Coefficients: \\n', reg.coef_)"
   ]
  },
  {
   "cell_type": "markdown",
   "metadata": {},
   "source": [
    "# Making Predictions\n",
    "\n",
    "In the gradient descent notebook we use numpy to do our regression. In this book we will use existing graphlab create functions to analyze multiple regressions. \n",
    "\n",
    "Recall that once a model is built we can use the .predict() function to find the predicted values for data we pass. For example using the example model above:"
   ]
  },
  {
   "cell_type": "code",
   "execution_count": 6,
   "metadata": {},
   "outputs": [
    {
     "data": {
      "text/plain": [
       "array([271789.26537997])"
      ]
     },
     "execution_count": 6,
     "metadata": {},
     "output_type": "execute_result"
    }
   ],
   "source": [
    "# example_predictions = example_model.predict(train_data)\n",
    "# print example_predictions[0] # should be 271789.505878\n",
    "\n",
    "example_predictions = reg.predict(train_data.loc[:, ['sqft_living', 'bedrooms', 'bathrooms']])\n",
    "example_predictions[0]"
   ]
  },
  {
   "cell_type": "markdown",
   "metadata": {},
   "source": [
    "# Compute RSS"
   ]
  },
  {
   "cell_type": "markdown",
   "metadata": {},
   "source": [
    "Now that we can make predictions given the model, let's write a function to compute the RSS of the model. Complete the function below to calculate RSS given the model, data, and the outcome."
   ]
  },
  {
   "cell_type": "code",
   "execution_count": 7,
   "metadata": {},
   "outputs": [],
   "source": [
    "def get_residual_sum_of_squares(model, data, outcome):\n",
    "    \"\"\"\n",
    "    type:\n",
    "        model: LinearRegression object\n",
    "        data: features, a pandas dataframe\n",
    "        outcome: expected response, a ndarray\n",
    "    rtype:\n",
    "        RSS, a scalar\n",
    "    \"\"\"\n",
    "    # First get the predictions\n",
    "    pred = np.ravel(model.predict(data))\n",
    "\n",
    "    # Then compute the residuals/errors\n",
    "    res = outcome - pred\n",
    "\n",
    "    # Then square and add them up\n",
    "    RSS = np.sum(res ** 2)\n",
    "\n",
    "    return(RSS)"
   ]
  },
  {
   "cell_type": "markdown",
   "metadata": {},
   "source": [
    "Test your function by computing the RSS on TEST data for the example model:"
   ]
  },
  {
   "cell_type": "code",
   "execution_count": 8,
   "metadata": {},
   "outputs": [
    {
     "name": "stdout",
     "output_type": "stream",
     "text": [
      "2.737619E+14\n",
      "-1.3211115206246404e-06\n"
     ]
    }
   ],
   "source": [
    "# rss_example_train = get_residual_sum_of_squares(example_model, test_data, test_data['price'])\n",
    "# print rss_example_train # should be 2.7376153833e+14\n",
    "\n",
    "rss_example_train = get_residual_sum_of_squares(reg, \n",
    "                                                test_data.loc[:, ['sqft_living', 'bedrooms', 'bathrooms']], \n",
    "                                                test_data.loc[:, 'price'].values)\n",
    "print('%E' % rss_example_train) # should be 2.7376153833e+14\n",
    "print(2.7376153833e+14 / 2.737619E+14 - 1)"
   ]
  },
  {
   "cell_type": "markdown",
   "metadata": {},
   "source": [
    "# Create some new features"
   ]
  },
  {
   "cell_type": "markdown",
   "metadata": {},
   "source": [
    "Although we often think of multiple regression as including multiple different features (e.g. # of bedrooms, squarefeet, and # of bathrooms) but we can also consider transformations of existing features e.g. the log of the squarefeet or even \"interaction\" features such as the product of bedrooms and bathrooms."
   ]
  },
  {
   "cell_type": "markdown",
   "metadata": {},
   "source": [
    "You will use the logarithm function to create a new feature. so first you should import it from the math library."
   ]
  },
  {
   "cell_type": "code",
   "execution_count": 9,
   "metadata": {},
   "outputs": [],
   "source": [
    "from math import log"
   ]
  },
  {
   "cell_type": "markdown",
   "metadata": {},
   "source": [
    "Next create the following 4 new features as column in both TEST and TRAIN data:\n",
    "* bedrooms_squared = bedrooms\\*bedrooms\n",
    "* bed_bath_rooms = bedrooms\\*bathrooms\n",
    "* log_sqft_living = log(sqft_living)\n",
    "* lat_plus_long = lat + long \n",
    "As an example here's the first one:"
   ]
  },
  {
   "cell_type": "code",
   "execution_count": 10,
   "metadata": {},
   "outputs": [],
   "source": [
    "# train_data['bedrooms_squared'] = train_data['bedrooms'].apply(lambda x: x**2)\n",
    "# test_data['bedrooms_squared'] = test_data['bedrooms'].apply(lambda x: x**2)\n",
    "\n",
    "train_data = train_data.assign(bedrooms_squared = train_data['bedrooms'] ** 2)\n",
    "test_data = test_data.assign(bedrooms_squared = test_data['bedrooms'] ** 2)"
   ]
  },
  {
   "cell_type": "code",
   "execution_count": 11,
   "metadata": {},
   "outputs": [],
   "source": [
    "# create the remaining 3 features in both TEST and TRAIN data\n",
    "\n",
    "train_data = train_data.assign(bed_bath_rooms = train_data['bedrooms'] * train_data['bathrooms'])\n",
    "test_data = test_data.assign(bed_bath_rooms = test_data['bedrooms'] * test_data['bathrooms'])\n",
    "\n",
    "train_data = train_data.assign(log_sqft_living = np.log(train_data['sqft_living']))\n",
    "test_data = test_data.assign(log_sqft_living = np.log(test_data['sqft_living']))\n",
    "\n",
    "train_data = train_data.assign(lat_plus_long = train_data['lat'] + train_data['long'])\n",
    "test_data = test_data.assign(lat_plus_long = test_data['lat'] + test_data['long'])"
   ]
  },
  {
   "cell_type": "markdown",
   "metadata": {},
   "source": [
    "* Squaring bedrooms will increase the separation between not many bedrooms (e.g. 1) and lots of bedrooms (e.g. 4) since 1^2 = 1 but 4^2 = 16. Consequently this feature will mostly affect houses with many bedrooms.\n",
    "* bedrooms times bathrooms gives what's called an \"interaction\" feature. It is large when *both* of them are large.\n",
    "* Taking the log of squarefeet has the effect of bringing large values closer together and spreading out small values.\n",
    "* Adding latitude to longitude is totally non-sensical but we will do it anyway (you'll see why)"
   ]
  },
  {
   "cell_type": "markdown",
   "metadata": {},
   "source": [
    "**Quiz Question: What is the mean (arithmetic average) value of your 4 new features on TEST data? (round to 2 digits)**"
   ]
  },
  {
   "cell_type": "code",
   "execution_count": 22,
   "metadata": {},
   "outputs": [
    {
     "name": "stdout",
     "output_type": "stream",
     "text": [
      "mean of bedrooms_squared: 12.45\n",
      "mean of bed_bath_rooms: 7.50\n",
      "mean of log_sqft_living: 7.55\n",
      "mean of lat_plus_long: -74.65\n"
     ]
    }
   ],
   "source": [
    "print('mean of bedrooms_squared: %.2f' % np.mean(test_data['bedrooms_squared']))\n",
    "print('mean of bed_bath_rooms: %.2f' % np.mean(test_data['bed_bath_rooms']))\n",
    "print('mean of log_sqft_living: %.2f' % np.mean(test_data['log_sqft_living']))\n",
    "print('mean of lat_plus_long: %.2f' % np.mean(test_data['lat_plus_long']))"
   ]
  },
  {
   "cell_type": "markdown",
   "metadata": {},
   "source": [
    "# Learning Multiple Models"
   ]
  },
  {
   "cell_type": "markdown",
   "metadata": {},
   "source": [
    "Now we will learn the weights for three (nested) models for predicting house prices. The first model will have the fewest features the second model will add one more feature and the third will add a few more:\n",
    "* Model 1: squarefeet, # bedrooms, # bathrooms, latitude & longitude\n",
    "* Model 2: add bedrooms\\*bathrooms\n",
    "* Model 3: Add log squarefeet, bedrooms squared, and the (nonsensical) latitude + longitude"
   ]
  },
  {
   "cell_type": "code",
   "execution_count": 13,
   "metadata": {},
   "outputs": [],
   "source": [
    "model_1_features = ['sqft_living', 'bedrooms', 'bathrooms', 'lat', 'long']\n",
    "model_2_features = model_1_features + ['bed_bath_rooms']\n",
    "model_3_features = model_2_features + ['bedrooms_squared', 'log_sqft_living', 'lat_plus_long']"
   ]
  },
  {
   "cell_type": "markdown",
   "metadata": {},
   "source": [
    "Now that you have the features, learn the weights for the three different models for predicting target = 'price' using graphlab.linear_regression.create() and look at the value of the weights/coefficients:"
   ]
  },
  {
   "cell_type": "code",
   "execution_count": 14,
   "metadata": {},
   "outputs": [
    {
     "data": {
      "text/plain": [
       "LinearRegression(copy_X=True, fit_intercept=True, n_jobs=None,\n",
       "         normalize=False)"
      ]
     },
     "execution_count": 14,
     "metadata": {},
     "output_type": "execute_result"
    }
   ],
   "source": [
    "# Learn the three models: (don't forget to set validation_set = None)\n",
    "reg_1 = LinearRegression()\n",
    "reg_1.fit(train_data.loc[:, model_1_features], \n",
    "          train_data.loc[:, ['price']])\n",
    "\n",
    "reg_2 = LinearRegression()\n",
    "reg_2.fit(train_data.loc[:, model_2_features], \n",
    "          train_data.loc[:, ['price']])\n",
    "\n",
    "reg_3 = LinearRegression()\n",
    "reg_3.fit(train_data.loc[:, model_3_features], \n",
    "          train_data.loc[:, ['price']])"
   ]
  },
  {
   "cell_type": "code",
   "execution_count": 15,
   "metadata": {},
   "outputs": [
    {
     "name": "stdout",
     "output_type": "stream",
     "text": [
      "Coefficients of model 1: \n",
      " [[ 3.12258646e+02 -5.95865332e+04  1.57067421e+04  6.58619264e+05\n",
      "  -3.09374351e+05]]\n",
      "Coefficients of model 2: \n",
      " [[ 3.06610053e+02 -1.13446368e+05 -7.14613083e+04  6.54844630e+05\n",
      "  -2.94298969e+05  2.55796520e+04]]\n",
      "Coefficients of model 3: \n",
      " [[ 5.29422820e+02  3.45142296e+04  6.70607813e+04  5.34085611e+05\n",
      "  -4.06750711e+05 -8.57050439e+03 -6.78858667e+03 -5.61831484e+05\n",
      "   1.27334900e+05]]\n"
     ]
    }
   ],
   "source": [
    "# Examine/extract each model's coefficients:\n",
    "print('Coefficients of model 1: \\n', reg_1.coef_)\n",
    "print('Coefficients of model 2: \\n', reg_2.coef_)\n",
    "print('Coefficients of model 3: \\n', reg_3.coef_)"
   ]
  },
  {
   "cell_type": "markdown",
   "metadata": {},
   "source": [
    "**Quiz Question: What is the sign (positive or negative) for the coefficient/weight for 'bathrooms' in model 1?**\n",
    "\n",
    "Answer: positive.\n",
    "\n",
    "**Quiz Question: What is the sign (positive or negative) for the coefficient/weight for 'bathrooms' in model 2?**\n",
    "\n",
    "Answer: negative.\n",
    "\n",
    "Think about what this means.\n",
    "\n",
    "Answer: **\\[pending\\]**"
   ]
  },
  {
   "cell_type": "markdown",
   "metadata": {},
   "source": [
    "# Comparing multiple models\n",
    "\n",
    "Now that you've learned three models and extracted the model weights we want to evaluate which model is best."
   ]
  },
  {
   "cell_type": "markdown",
   "metadata": {},
   "source": [
    "First use your functions from earlier to compute the RSS on TRAINING Data for each of the three models."
   ]
  },
  {
   "cell_type": "code",
   "execution_count": 19,
   "metadata": {},
   "outputs": [
    {
     "name": "stdout",
     "output_type": "stream",
     "text": [
      "RSS of model 1: 9.678800E+14\n",
      "RSS of model 2: 9.584196E+14\n",
      "RSS of model 3: 9.034365E+14\n"
     ]
    }
   ],
   "source": [
    "# Compute the RSS on TRAINING data for each of the three models and record the values:\n",
    "rss_1_train = get_residual_sum_of_squares(reg_1,\n",
    "                                          train_data.loc[:, model_1_features],\n",
    "                                          train_data.loc[:, 'price'].values)\n",
    "\n",
    "rss_2_train = get_residual_sum_of_squares(reg_2,\n",
    "                                          train_data.loc[:, model_2_features],\n",
    "                                          train_data.loc[:, 'price'].values)\n",
    "\n",
    "rss_3_train = get_residual_sum_of_squares(reg_3,\n",
    "                                          train_data.loc[:, model_3_features],\n",
    "                                          train_data.loc[:, 'price'].values)\n",
    "\n",
    "print('RSS of model 1: %E' % rss_1_train)\n",
    "print('RSS of model 2: %E' % rss_2_train)\n",
    "print('RSS of model 3: %E' % rss_3_train)"
   ]
  },
  {
   "cell_type": "markdown",
   "metadata": {},
   "source": [
    "**Quiz Question: Which model (1, 2 or 3) has lowest RSS on TRAINING Data?** Is this what you expected?\n",
    "\n",
    "Answer: model 3 has the lowest RSS on training data. Yes, this is what I expected. RSS should decrease when more variables are added in model."
   ]
  },
  {
   "cell_type": "markdown",
   "metadata": {},
   "source": [
    "Now compute the RSS on on TEST data for each of the three models."
   ]
  },
  {
   "cell_type": "code",
   "execution_count": 20,
   "metadata": {},
   "outputs": [
    {
     "name": "stdout",
     "output_type": "stream",
     "text": [
      "RSS of model 1: 2.255005E+14\n",
      "RSS of model 2: 2.233775E+14\n",
      "RSS of model 3: 2.592363E+14\n"
     ]
    }
   ],
   "source": [
    "# Compute the RSS on TESTING data for each of the three models and record the values:\n",
    "rss_1 = get_residual_sum_of_squares(reg_1,\n",
    "                                    test_data.loc[:, model_1_features],\n",
    "                                    test_data.loc[:, 'price'].values)\n",
    "\n",
    "rss_2 = get_residual_sum_of_squares(reg_2,\n",
    "                                    test_data.loc[:, model_2_features],\n",
    "                                    test_data.loc[:, 'price'].values)\n",
    "\n",
    "rss_3 = get_residual_sum_of_squares(reg_3,\n",
    "                                    test_data.loc[:, model_3_features],\n",
    "                                    test_data.loc[:, 'price'].values)\n",
    "\n",
    "print('RSS of model 1: %E' % rss_1)\n",
    "print('RSS of model 2: %E' % rss_2)\n",
    "print('RSS of model 3: %E' % rss_3)"
   ]
  },
  {
   "cell_type": "markdown",
   "metadata": {},
   "source": [
    "**Quiz Question: Which model (1, 2 or 3) has lowest RSS on TESTING Data?** Is this what you expected? Think about the features that were added to each model from the previous.\n",
    "\n",
    "Answer: model 2 has the lowest RSS on TESTING data."
   ]
  }
 ],
 "metadata": {
  "kernelspec": {
   "display_name": "Python 3",
   "language": "python",
   "name": "python3"
  },
  "language_info": {
   "codemirror_mode": {
    "name": "ipython",
    "version": 3
   },
   "file_extension": ".py",
   "mimetype": "text/x-python",
   "name": "python",
   "nbconvert_exporter": "python",
   "pygments_lexer": "ipython3",
   "version": "3.7.1"
  }
 },
 "nbformat": 4,
 "nbformat_minor": 1
}
