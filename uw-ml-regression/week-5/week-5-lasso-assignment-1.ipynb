{
 "cells": [
  {
   "cell_type": "markdown",
   "metadata": {},
   "source": [
    "## Regression Week 5: LASSO Assignment 1\n",
    "\n",
    "In this assignment, you will use LASSO to select features, building on a pre-implemented solver for LASSO (using GraphLab Create, though you can use other solvers). You will:\n",
    "\n",
    "* Run LASSO with different L1 penalties.\n",
    "* Choose best L1 penalty using a validation set.\n",
    "* Choose best L1 penalty using a validation set, with additional constraint on the size of subset.\n",
    "\n",
    "In the second assignment, you will implement your own LASSO solver, using coordinate descent.\n",
    "\n",
    "Load the sales dataset using Pandas:"
   ]
  },
  {
   "cell_type": "code",
   "execution_count": 1,
   "metadata": {},
   "outputs": [],
   "source": [
    "import numpy as np\n",
    "import pandas as pd\n",
    "\n",
    "dtype_dict = {'bathrooms':float, 'waterfront':int, 'sqft_above':int, 'sqft_living15':float, 'grade':int, 'yr_renovated':int, 'price':float, 'bedrooms':float, 'zipcode':str, 'long':float, 'sqft_lot15':float, 'sqft_living':float, 'floors':float, 'condition':int, 'lat':float, 'date':str, 'sqft_basement':int, 'yr_built':int, 'id':str, 'sqft_lot':int, 'view':int}\n",
    "\n",
    "sales = pd.read_csv('../week-3/kc_house_data.csv', dtype=dtype_dict)"
   ]
  },
  {
   "cell_type": "markdown",
   "metadata": {},
   "source": [
    "Create new features by performing following transformation on inputs:"
   ]
  },
  {
   "cell_type": "code",
   "execution_count": 2,
   "metadata": {},
   "outputs": [],
   "source": [
    "from math import log, sqrt\n",
    "sales['sqft_living_sqrt'] = sales['sqft_living'].apply(sqrt)\n",
    "sales['sqft_lot_sqrt'] = sales['sqft_lot'].apply(sqrt)\n",
    "sales['bedrooms_square'] = sales['bedrooms']*sales['bedrooms']\n",
    "sales['floors_square'] = sales['floors']*sales['floors']"
   ]
  },
  {
   "cell_type": "markdown",
   "metadata": {},
   "source": [
    "Squaring bedrooms will increase the separation between not many bedrooms (e.g. 1) and lots of bedrooms (e.g. 4) since 1^2 = 1 but 4^2 = 16. Consequently this variable will mostly affect houses with many bedrooms.\n",
    "On the other hand, taking square root of sqft_living will decrease the separation between big house and small house. The owner may not be exactly twice as happy for getting a house that is twice as big.\n",
    "\n",
    "Using the entire house dataset, learn regression weights using an L1 penalty of `5e2`. Make sure to add `normalize=True` when creating the Lasso object. Refer to the following code snippet for the list of features.\n",
    "\n",
    "**Note**. From here on, the list `all_features` refers to the list defined in this snippet."
   ]
  },
  {
   "cell_type": "code",
   "execution_count": 3,
   "metadata": {},
   "outputs": [
    {
     "data": {
      "text/plain": [
       "Lasso(alpha=500.0, copy_X=True, fit_intercept=True, max_iter=1000,\n",
       "   normalize=True, positive=False, precompute=False, random_state=None,\n",
       "   selection='cyclic', tol=0.0001, warm_start=False)"
      ]
     },
     "execution_count": 3,
     "metadata": {},
     "output_type": "execute_result"
    }
   ],
   "source": [
    "from sklearn import linear_model  # using scikit-learn\n",
    "\n",
    "all_features = ['bedrooms', 'bedrooms_square','bathrooms', 'sqft_living', \n",
    "                'sqft_living_sqrt','sqft_lot', 'sqft_lot_sqrt', 'floors', \n",
    "                'floors_square', 'waterfront', 'view', 'condition', \n",
    "                'grade', 'sqft_above', 'sqft_basement', 'yr_built', \n",
    "                'yr_renovated']\n",
    "\n",
    "model_all = linear_model.Lasso(alpha=5e2, normalize=True) # set parameters\n",
    "model_all.fit(sales[all_features], sales['price']) # learn weights"
   ]
  },
  {
   "cell_type": "markdown",
   "metadata": {},
   "source": [
    "***Quiz Question***: Which features have been chosen by LASSO, i.e. which features were assigned nonzero weights?"
   ]
  },
  {
   "cell_type": "code",
   "execution_count": 34,
   "metadata": {},
   "outputs": [
    {
     "data": {
      "text/plain": [
       "array(['sqft_living', 'view', 'grade'], dtype='<U16')"
      ]
     },
     "execution_count": 34,
     "metadata": {},
     "output_type": "execute_result"
    }
   ],
   "source": [
    "filter_1 = (model_all.coef_ != 0)\n",
    "filter_1\n",
    "\n",
    "np_all_features = np.array(all_features)\n",
    "np_all_features[filter_1]"
   ]
  },
  {
   "cell_type": "markdown",
   "metadata": {},
   "source": [
    "To find a good L1 penalty, we will explore multiple values using a validation set. Let us do three way split into train, validation, and test sets. Download the provided csv files containing training, validation and test sets."
   ]
  },
  {
   "cell_type": "code",
   "execution_count": 5,
   "metadata": {},
   "outputs": [],
   "source": [
    "testing = pd.read_csv('../week-3/wk3_kc_house_test_data.csv', dtype=dtype_dict)\n",
    "training = pd.read_csv('../week-3/wk3_kc_house_train_data.csv', dtype=dtype_dict)\n",
    "validation = pd.read_csv('../week-3/wk3_kc_house_valid_data.csv', dtype=dtype_dict)"
   ]
  },
  {
   "cell_type": "markdown",
   "metadata": {},
   "source": [
    "Make sure to create the 4 features as we did in #1:"
   ]
  },
  {
   "cell_type": "code",
   "execution_count": 6,
   "metadata": {},
   "outputs": [],
   "source": [
    "testing['sqft_living_sqrt'] = testing['sqft_living'].apply(sqrt)\n",
    "testing['sqft_lot_sqrt'] = testing['sqft_lot'].apply(sqrt)\n",
    "testing['bedrooms_square'] = testing['bedrooms']*testing['bedrooms']\n",
    "testing['floors_square'] = testing['floors']*testing['floors']\n",
    "\n",
    "training['sqft_living_sqrt'] = training['sqft_living'].apply(sqrt)\n",
    "training['sqft_lot_sqrt'] = training['sqft_lot'].apply(sqrt)\n",
    "training['bedrooms_square'] = training['bedrooms']*training['bedrooms']\n",
    "training['floors_square'] = training['floors']*training['floors']\n",
    "\n",
    "validation['sqft_living_sqrt'] = validation['sqft_living'].apply(sqrt)\n",
    "validation['sqft_lot_sqrt'] = validation['sqft_lot'].apply(sqrt)\n",
    "validation['bedrooms_square'] = validation['bedrooms']*validation['bedrooms']\n",
    "validation['floors_square'] = validation['floors']*validation['floors']"
   ]
  },
  {
   "cell_type": "markdown",
   "metadata": {},
   "source": [
    "Now for each l1_penalty in [10^1, 10^1.5, 10^2, 10^2.5, ..., 10^7] (to get this in Python, type `np.logspace(1, 7, num=13)`.)\n",
    "\n",
    "* Learn a model on TRAINING data using the specified l1_penalty. Make sure to specify normalize=True in the constructor\n",
    "\n",
    "* Compute the RSS on VALIDATION for the current model (print or save the RSS)\n",
    "\n",
    "Report which L1 penalty produced the lower RSS on VALIDATION.\n",
    "\n",
    "***Quiz Question***: Which was the best value for the l1_penalty, i.e. which value of l1_penalty produced the lowest RSS on VALIDATION data?"
   ]
  },
  {
   "cell_type": "code",
   "execution_count": 7,
   "metadata": {},
   "outputs": [
    {
     "name": "stdout",
     "output_type": "stream",
     "text": [
      "398213327300134.94\n",
      "10.0\n"
     ]
    }
   ],
   "source": [
    "l1_penalty = np.logspace(1, 7, num=13)\n",
    "\n",
    "def get_lowest_rss(l1_penalty, training, validation):\n",
    "    for i in range(len(l1_penalty)):    \n",
    "        model = linear_model.Lasso(alpha=l1_penalty[i], normalize=True)\n",
    "        model.fit(X=training.loc[:, all_features], y=training['price'])\n",
    "        pred_price = model.predict(validation.loc[:, all_features])\n",
    "        rss = np.sum((pred_price - validation['price']) ** 2)\n",
    "        \n",
    "        if i == 0:\n",
    "            lowest_rss = rss\n",
    "            best_l1_penalty = l1_penalty[i]\n",
    "            best_model = model\n",
    "        \n",
    "        if rss < lowest_rss:\n",
    "            lowest_rss = rss\n",
    "            best_l1_penalty = l1_penalty[i]\n",
    "            best_model = model\n",
    "    \n",
    "    return (lowest_rss, best_l1_penalty, best_model)\n",
    "\n",
    "lowest_rss, best_l1_penalty, best_model = get_lowest_rss(l1_penalty, training, validation)\n",
    "\n",
    "print(lowest_rss)\n",
    "print(best_l1_penalty)"
   ]
  },
  {
   "cell_type": "markdown",
   "metadata": {},
   "source": [
    "Now that you have selected an L1 penalty, compute the RSS on TEST data for the model with the best L1 penalty.\n",
    "\n",
    "***Quiz Question***: Using the best L1 penalty, how many nonzero weights do you have? Count the number of nonzero coefficients first, and add 1 if the intercept is also nonzero. A succinct way to do this is as below where `model` is an instance of `linear_model.Lasso`."
   ]
  },
  {
   "cell_type": "code",
   "execution_count": 8,
   "metadata": {},
   "outputs": [
    {
     "data": {
      "text/plain": [
       "15"
      ]
     },
     "execution_count": 8,
     "metadata": {},
     "output_type": "execute_result"
    }
   ],
   "source": [
    "np.count_nonzero(best_model.coef_) + np.count_nonzero(best_model.intercept_)"
   ]
  },
  {
   "cell_type": "code",
   "execution_count": 9,
   "metadata": {},
   "outputs": [
    {
     "data": {
      "text/plain": [
       "array([-1.61445628e+04,  3.73245384e+02,  5.08412433e+04,  6.17853560e+02,\n",
       "       -4.44113549e+04,  7.85623065e-01, -7.01194765e+02, -0.00000000e+00,\n",
       "        5.01420046e+03,  6.19488752e+05,  3.80418557e+04,  2.49987718e+04,\n",
       "        1.28716235e+05,  0.00000000e+00,  0.00000000e+00, -3.29383118e+03,\n",
       "        1.00573209e+01])"
      ]
     },
     "execution_count": 9,
     "metadata": {},
     "output_type": "execute_result"
    }
   ],
   "source": [
    "best_model.coef_"
   ]
  },
  {
   "cell_type": "markdown",
   "metadata": {},
   "source": [
    "What if we absolutely wanted to limit ourselves to, say, 7 features? This may be important if we want to derive \"a rule of thumb\" --- an interpretable model that has only a few features in them.\n",
    "\n",
    "You are going to implement a simple, two phase procedure to achieve this goal:\n",
    "\n",
    "* Explore a large range of ‘l1_penalty’ values to find a narrow region of ‘l1_penalty’ values where models are likely to have the desired number of non-zero weights.\n",
    "* Further explore the narrow region you found to find a good value for ‘l1_penalty’ that achieves the desired sparsity. Here, we will again use a validation set to choose the best value for ‘l1_penalty’.\n",
    "\n",
    "Assign 7 to the variable ‘max_nonzeros’.\n",
    "\n",
    "### Exploring large range of l1_penalty\n",
    "\n",
    "For `l1_penalty` in `np.logspace(1, 4, num=20)`:\n",
    "\n",
    "* Fit a regression model with a given `l1_penalty` on TRAIN data. Add `alpha=l1_penalty` and `normalize=True` to the parameter list.\n",
    "* Extract the weights of the model and count the number of nonzeros. Take account of the intercept as we did in #8, adding 1 whenever the intercept is nonzero. Save the number of nonzeros to a list.\n",
    "\n",
    "Out of this large range, we want to find the two ends of our desired narrow range of l1_penalty. At one end, we will have l1_penalty values that have too few non-zeros, and at the other end, we will have an l1_penalty that has too many non-zeros.\n",
    "\n",
    "More formally, find:\n",
    "\n",
    "* The largest l1_penalty that has more non-zeros than ‘max_nonzeros’ (if we pick a penalty smaller than this value, we will definitely have too many non-zero weights)Store this value in the variable `l1_penalty_min` (we will use it later)\n",
    "* The smallest l1_penalty that has fewer non-zeros than ‘max_nonzeros’ (if we pick a penalty larger than this value, we will definitely have too few non-zero weights)Store this value in the variable `l1_penalty_max` (we will use it later)\n",
    "\n",
    "Hint: there are many ways to do this, e.g.:\n",
    "\n",
    "* Programmatically within the loop above\n",
    "* Creating a list with the number of non-zeros for each value of l1_penalty and inspecting it to find the appropriate boundaries."
   ]
  },
  {
   "cell_type": "code",
   "execution_count": 10,
   "metadata": {},
   "outputs": [
    {
     "name": "stdout",
     "output_type": "stream",
     "text": [
      "left bound, l1_penalty_min: 127.43; non-zero count: 10; j: 7\n",
      "right bound, l1_penalty_max: 263.67; non-zero count: 6; j: 9\n"
     ]
    }
   ],
   "source": [
    "max_nonzeros = 7\n",
    "\n",
    "l1_penalty = np.logspace(1, 4, num=20)\n",
    "non_zeros = []\n",
    "\n",
    "for i in range(len(l1_penalty)):\n",
    "    model = linear_model.Lasso(alpha=l1_penalty[i], normalize=True)\n",
    "    model.fit(X=training.loc[:, all_features], y=training['price'])\n",
    "    non_zeros.append(np.count_nonzero(model.coef_) + np.count_nonzero(model.intercept_))\n",
    "    \n",
    "for j in range(1, len(non_zeros)-2):\n",
    "    if non_zeros[j] > max_nonzeros and non_zeros[j+1] <= max_nonzeros:\n",
    "        l1_penalty_min = l1_penalty[j]\n",
    "        non_zero_cnt_left = non_zeros[j]\n",
    "        j_left = j\n",
    "    if non_zeros[j] < max_nonzeros and non_zeros[j-1] >= max_nonzeros:\n",
    "        l1_penalty_max = l1_penalty[j]\n",
    "        non_zero_cnt_right = non_zeros[j]\n",
    "        j_right = j\n",
    "        \n",
    "print('left bound, l1_penalty_min: %.2f; non-zero count: %d; j: %d' % (l1_penalty_min, non_zero_cnt_left, j_left))\n",
    "print('right bound, l1_penalty_max: %.2f; non-zero count: %d; j: %d' % (l1_penalty_max, non_zero_cnt_right, j_right))"
   ]
  },
  {
   "cell_type": "code",
   "execution_count": 11,
   "metadata": {},
   "outputs": [
    {
     "data": {
      "image/png": "[encoded data removed]",
      "text/plain": [
       "<Figure size 432x288 with 1 Axes>"
      ]
     },
     "metadata": {
      "needs_background": "light"
     },
     "output_type": "display_data"
    }
   ],
   "source": [
    "import matplotlib.pyplot as plt\n",
    "%matplotlib inline\n",
    "\n",
    "plt.plot(l1_penalty, non_zeros)\n",
    "plt.xscale('log')"
   ]
  },
  {
   "cell_type": "markdown",
   "metadata": {},
   "source": [
    "***Quiz Question***: What values did you find for l1_penalty_min and l1_penalty_max?"
   ]
  },
  {
   "cell_type": "markdown",
   "metadata": {},
   "source": [
    "See above"
   ]
  },
  {
   "cell_type": "markdown",
   "metadata": {},
   "source": [
    "### Exploring narrower range of l1_penalty\n",
    "\n",
    "We now explore the region of l1_penalty we found: between `l1_penalty_min` and `l1_penalty_max`. We look for the L1 penalty in this range that produces exactly the right number of nonzeros and also minimizes RSS on the VALIDATION set.\n",
    "\n",
    "For `l1_penalty` in `np.linspace(l1_penalty_min,l1_penalty_max,20)`:\n",
    "\n",
    "* Fit a regression model with a given l1_penalty on TRAIN data. As before, use `alpha=l1_penalty` and `normalize=True`.\n",
    "* Measure the RSS of the learned model on the VALIDATION set\n",
    "\n",
    "Find the model that has the lowest RSS on the VALIDATION set and has sparsity equal to `max_nonzeros`. (Again, take account of the intercept when counting the number of nonzeros.)\n",
    "\n"
   ]
  },
  {
   "cell_type": "code",
   "execution_count": 17,
   "metadata": {},
   "outputs": [],
   "source": [
    "l1_penalty = np.linspace(l1_penalty_min,l1_penalty_max,20)\n",
    "\n",
    "def find_final_l1_penalty(l1_penalty, training, validation, all_features, max_nonzeros):\n",
    "    non_zeros_final = []\n",
    "    rss_validation = []\n",
    "    lowest_rss_final = None\n",
    "    lowest_rss_index = None\n",
    "    lowest_rss_model_coefs = None\n",
    "\n",
    "    for i in range(len(l1_penalty)):\n",
    "        model = linear_model.Lasso(alpha=l1_penalty[i], normalize=True)\n",
    "        model.fit(X=training.loc[:, all_features], y=training['price'])\n",
    "        non_zeros_final.append(np.count_nonzero(model.coef_) + np.count_nonzero(model.intercept_))\n",
    "        pred_y = model.predict(X=validation.loc[:, all_features])\n",
    "        rss_validation.append(np.sum((pred_y - validation['price']) ** 2))\n",
    "\n",
    "        if non_zeros_final[i] == max_nonzeros:\n",
    "            if lowest_rss_final is None or rss_validation[i] < lowest_rss_final:\n",
    "                lowest_rss_final = rss_validation[i]\n",
    "                lowest_rss_index = i\n",
    "                lowest_rss_model_coefs = model.coef_\n",
    "                \n",
    "    return (lowest_rss_final, l1_penalty[lowest_rss_index], lowest_rss_model_coefs)\n",
    "\n",
    "lowest_rss_final, final_l1_penalty, final_model_coefs = find_final_l1_penalty(l1_penalty, training, validation, all_features, max_nonzeros)"
   ]
  },
  {
   "cell_type": "markdown",
   "metadata": {},
   "source": [
    "***Quiz Question***: What value of l1_penalty in our narrow range has the lowest RSS on the VALIDATION set and has sparsity equal to ‘max_nonzeros’?"
   ]
  },
  {
   "cell_type": "code",
   "execution_count": 18,
   "metadata": {},
   "outputs": [
    {
     "name": "stdout",
     "output_type": "stream",
     "text": [
      "156.11\n"
     ]
    }
   ],
   "source": [
    "print(round(final_l1_penalty,2))"
   ]
  },
  {
   "cell_type": "markdown",
   "metadata": {},
   "source": [
    "***Quiz Question***: What features in this model have non-zero coefficients?"
   ]
  },
  {
   "cell_type": "code",
   "execution_count": 30,
   "metadata": {},
   "outputs": [
    {
     "data": {
      "text/plain": [
       "array([False, False,  True,  True, False, False, False, False, False,\n",
       "        True,  True, False,  True, False, False,  True, False])"
      ]
     },
     "execution_count": 30,
     "metadata": {},
     "output_type": "execute_result"
    }
   ],
   "source": [
    "filter_array = (final_model_coefs != 0)\n",
    "filter_array"
   ]
  },
  {
   "cell_type": "code",
   "execution_count": 31,
   "metadata": {},
   "outputs": [
    {
     "data": {
      "text/plain": [
       "array(['bedrooms', 'bedrooms_square', 'bathrooms', 'sqft_living',\n",
       "       'sqft_living_sqrt', 'sqft_lot', 'sqft_lot_sqrt', 'floors',\n",
       "       'floors_square', 'waterfront', 'view', 'condition', 'grade',\n",
       "       'sqft_above', 'sqft_basement', 'yr_built', 'yr_renovated'],\n",
       "      dtype='<U16')"
      ]
     },
     "execution_count": 31,
     "metadata": {},
     "output_type": "execute_result"
    }
   ],
   "source": [
    "np_all_features"
   ]
  },
  {
   "cell_type": "code",
   "execution_count": 32,
   "metadata": {},
   "outputs": [
    {
     "data": {
      "text/plain": [
       "array(['bathrooms', 'sqft_living', 'waterfront', 'view', 'grade',\n",
       "       'yr_built'], dtype='<U16')"
      ]
     },
     "execution_count": 32,
     "metadata": {},
     "output_type": "execute_result"
    }
   ],
   "source": [
    "np_all_features[filter_array]"
   ]
  }
 ],
 "metadata": {
  "kernelspec": {
   "display_name": "Python 3",
   "language": "python",
   "name": "python3"
  },
  "language_info": {
   "codemirror_mode": {
    "name": "ipython",
    "version": 3
   },
   "file_extension": ".py",
   "mimetype": "text/x-python",
   "name": "python",
   "nbconvert_exporter": "python",
   "pygments_lexer": "ipython3",
   "version": "3.7.1"
  }
 },
 "nbformat": 4,
 "nbformat_minor": 2
}
