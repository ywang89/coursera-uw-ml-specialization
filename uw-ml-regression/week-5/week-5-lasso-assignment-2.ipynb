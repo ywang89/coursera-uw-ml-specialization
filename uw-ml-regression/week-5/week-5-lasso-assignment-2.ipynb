{
 "cells": [
  {
   "cell_type": "markdown",
   "metadata": {},
   "source": [
    "## Import Modules"
   ]
  },
  {
   "cell_type": "code",
   "execution_count": 1,
   "metadata": {},
   "outputs": [],
   "source": [
    "import numpy as np\n",
    "import pandas as pd"
   ]
  },
  {
   "cell_type": "markdown",
   "metadata": {},
   "source": [
    "## Load Data"
   ]
  },
  {
   "cell_type": "code",
   "execution_count": 2,
   "metadata": {},
   "outputs": [],
   "source": [
    "dtype = {'bathrooms':float, 'waterfront':int, 'sqft_above':int, 'sqft_living15':float, 'grade':int, 'yr_renovated':int, 'price':float, 'bedrooms':float, 'zipcode':str, 'long':float, 'sqft_lot15':float, 'sqft_living':float, 'floors':str, 'condition':int, 'lat':float, 'date':str, 'sqft_basement':int, 'yr_built':int, 'id':str, 'sqft_lot':int, 'view':int}\n",
    "\n",
    "sales = pd.read_csv('../week-4/kc_house_data.csv', dtype = dtype)\n",
    "train = pd.read_csv('../week-4/kc_house_train_data.csv', dtype = dtype)\n",
    "test = pd.read_csv('../week-4/kc_house_test_data.csv', dtype = dtype)"
   ]
  },
  {
   "cell_type": "markdown",
   "metadata": {},
   "source": [
    "Next, from Module 2 (Multiple Regression), copy and paste the `get_numpy_data` function (or equivalent) that takes a data set, a list of features (e.g. [‘sqft_living’, ‘bedrooms’]), to be used as inputs, and a name of the output (e.g. `price`). This function returns a `feature_matrix` (2D array) consisting of first a column of ones followed by columns containing the values of the input features in the data set in the same order as the input list. It also returns an `output_array` which is an array of the values of the output in the data set (e.g. `price`)."
   ]
  },
  {
   "cell_type": "code",
   "execution_count": 3,
   "metadata": {},
   "outputs": [],
   "source": [
    "def get_numpy_data(\n",
    "        # data_sframe, \n",
    "        data_frame, features, output):\n",
    "    # data_sframe['constant'] = 1 # this is how you add a constant column to an SFrame\n",
    "    data_frame = data_frame.assign(constant = 1)\n",
    "    # add the column 'constant' to the front of the features list so that we can extract it along with the others:\n",
    "    features = ['constant'] + features # this is how you combine two lists\n",
    "    # select the columns of data_SFrame given by the features list into the SFrame features_sframe (now including constant):\n",
    "    feature_df = data_frame.loc[:, features]\n",
    "    # the following line will convert the features_SFrame into a numpy matrix:\n",
    "    # feature_matrix = features_sframe.to_numpy()\n",
    "    feature_matrix = feature_df.values\n",
    "    # assign the column of data_sframe associated with the output to the SArray output_sarray\n",
    "    output_df = data_frame.loc[:, output]\n",
    "    # the following will convert the SArray into a numpy array by first converting it to a list\n",
    "    # output_array = output_sarray.to_numpy()\n",
    "    output_array = output_df.values\n",
    "    \n",
    "    return(feature_matrix, output_array)"
   ]
  },
  {
   "cell_type": "markdown",
   "metadata": {},
   "source": [
    "Similarly, copy and paste the `predict_output` function (or equivalent) from Module 2. This function accepts a 2D array `feature_matrix` and a 1D array `weights` and return a 1D array `predictions`."
   ]
  },
  {
   "cell_type": "code",
   "execution_count": 4,
   "metadata": {},
   "outputs": [],
   "source": [
    "def predict_output(feature_matrix, weights):\n",
    "    # assume feature_matrix is a numpy matrix containing the features as columns and weights is a corresponding numpy array\n",
    "    # create the predictions vector by using np.dot()\n",
    "    predictions = np.dot(feature_matrix, weights)\n",
    "    return(predictions)"
   ]
  },
  {
   "cell_type": "markdown",
   "metadata": {},
   "source": [
    "In the house dataset, features vary wildly in their relative magnitude: `sqft_living` is very large overall compared to `bedrooms`, for instance. As a result, weight for `sqft_living` would be much smaller than weight for `bedrooms`. This is problematic because “small” weights are dropped first as `l1_penalty` goes up.\n",
    "\n",
    "To give equal considerations for all features, we need to normalize features as discussed in the lectures: we divide each feature by its 2-norm so that the transformed feature has norm 1."
   ]
  },
  {
   "cell_type": "markdown",
   "metadata": {},
   "source": [
    "Write a short function called `normalize_features(feature_matrix)`, which normalizes columns of a given feature matrix. The function should return a pair `(normalized_features, norms)`, where the second item contains the norms of original features. As discussed in the lectures, we will use these norms to normalize the test data in the same way as we normalized the training data.\n",
    "\n",
    "**Hint**: If you are using Numpy, a handy shorthand for computing 2-norms of columns is\n",
    "\n",
    "`norms = np.linalg.norm(X, axis=0)`\n",
    "\n",
    "To normalize columns, perform element-wise division.\n",
    "\n",
    "`X_normalized = X / norms`"
   ]
  },
  {
   "cell_type": "code",
   "execution_count": 5,
   "metadata": {},
   "outputs": [],
   "source": [
    "def normalize_features(features):\n",
    "    norms = np.linalg.norm(features, axis = 0)\n",
    "    normalized_features = features / norms\n",
    "    return (normalized_features, norms)"
   ]
  },
  {
   "cell_type": "markdown",
   "metadata": {},
   "source": [
    "## Review of Coordinate Descent"
   ]
  },
  {
   "cell_type": "markdown",
   "metadata": {},
   "source": [
    " We seek to obtain a sparse set of weights by minimizing the LASSO cost function\n",
    " \n",
    "`SUM[ (prediction - output)^2 ] + lambda*( |w[1]| + ... + |w[k]|)`\n",
    "\n",
    "(By convention, we do not include `w[0]` in the L1 penalty term. We never want to push the intercept to zero.)\n",
    "\n",
    "The absolute value sign makes the cost function non-differentiable, so simple gradient descent is not viable (you would need to implement a method called subgradient descent). Instead, we will use coordinate descent: at each iteration, we will fix all weights but `weight i` and find the value of `weight i` that minimizes the objective. That is, we look for\n",
    "\n",
    "`argmin_{w[i]} [ SUM[ (prediction - output)^2 ] + lambda*( |w[1]| + ... + |w[k]|) ]`\n",
    "\n",
    "where all weights other than `w[i]` are held to be constant. We will optimize one `w[i]` at a time, circling through the weights multiple times.\n",
    "\n",
    "* Pick a coordinate i\n",
    "* Compute `w[i]` that minimizes the LASSO cost function\n",
    "* Repeat the two steps for all coordinates, multiple times\n",
    "\n",
    "For this assignment, we use cyclical coordinate descent with normalized features, where we cycle through coordinates `0` to `(d-1)` in order, and assume the features were normalized as discussed above. The formula for optimizing each coordinate is as follows:\n",
    "\n",
    "       ┌ (ro[i] + lambda/2)    if ro[i] < -lambda/2\n",
    "       \n",
    "w[i] = ├ 0                     if -lambda/2 <= ro[i] <= lambda/2\n",
    "\n",
    "       └ (ro[i] - lambda/2)    if ro[i] > lambda/2\n",
    "       \n",
    "where\n",
    "\n",
    "`ro[i] = SUM[ [feature_i]*(output - prediction + w[i]*[feature_i]) ]`\n",
    "\n",
    "Note that we do not regularize the weight of the constant feature (intercept) `w[0]`, so, for this weight, the update is simply:\n",
    "\n",
    "`w[0] = ro[i]`"
   ]
  },
  {
   "cell_type": "markdown",
   "metadata": {},
   "source": [
    "## Effect of L1 penalty\n",
    "\n",
    "Consider a simple model with 2 features: `sqft_living` and `bedrooms`. The output is `price`.\n",
    "\n",
    "* First, run `get_numpy_data()` (or equivalent) to obtain a feature matrix with 3 columns (constant column added). Use the entire `sales` dataset for now.\n",
    "* Normalize columns of the feature matrix. Save the norms of original features as `norms`.\n",
    "* Set initial weights to `[1,4,1]`.\n",
    "* Make predictions with feature matrix and initial weights.\n",
    "* Compute values of `ro[i]`, where\n",
    "\n",
    "`ro[i] = SUM[ [feature_i]*(output - prediction + w[i]*[feature_i]) ]`"
   ]
  },
  {
   "cell_type": "markdown",
   "metadata": {},
   "source": [
    "**Quiz Question 1**: Recall that, whenever `ro[i]` falls between `-l1_penalty/2` and `l1_penalty/2`, the corresponding weight `w[i]` is set to zero. Now suppose we were to take one step of coordinate descent on either feature 1 or feature 2. What range of values of `l1_penalty` would not set`w[1]` zero, but would set `w[2]` to zero, if we were to take a step in that coordinate?"
   ]
  },
  {
   "cell_type": "code",
   "execution_count": 6,
   "metadata": {},
   "outputs": [],
   "source": [
    "# run get_numpy_data\n",
    "feature_matrix, output_array = get_numpy_data(sales, ['sqft_living', 'bedrooms'], ['price'])"
   ]
  },
  {
   "cell_type": "code",
   "execution_count": 7,
   "metadata": {},
   "outputs": [],
   "source": [
    "# normalize columns\n",
    "normalized_features, norms = normalize_features(feature_matrix)"
   ]
  },
  {
   "cell_type": "code",
   "execution_count": 8,
   "metadata": {},
   "outputs": [],
   "source": [
    "# set initial weights\n",
    "weights = [1, 4, 1]"
   ]
  },
  {
   "cell_type": "code",
   "execution_count": 9,
   "metadata": {},
   "outputs": [],
   "source": [
    "# make predictions\n",
    "predictions = predict_output(feature_matrix, weights)"
   ]
  },
  {
   "cell_type": "code",
   "execution_count": 10,
   "metadata": {},
   "outputs": [
    {
     "name": "stdout",
     "output_type": "stream",
     "text": [
      "--- 0.0017290115356445312 seconds ---\n"
     ]
    }
   ],
   "source": [
    "# compute value of ro[i]\n",
    "ro = []\n",
    "\n",
    "import time\n",
    "start_time = time.time()\n",
    "\n",
    "ro.append(np.sum(normalized_features[:, 0] * (output_array[:, 0] - predictions + weights[0] * normalized_features[:, 0])))\n",
    "ro.append(np.sum(normalized_features[:, 1] * (output_array[:, 0] - predictions + weights[1] * normalized_features[:, 1])))\n",
    "ro.append(np.sum(normalized_features[:, 2] * (output_array[:, 0] - predictions + weights[2] * normalized_features[:, 2])))\n",
    "\n",
    "print(\"--- %s seconds ---\" % (time.time() - start_time))"
   ]
  },
  {
   "cell_type": "code",
   "execution_count": 11,
   "metadata": {},
   "outputs": [
    {
     "data": {
      "text/plain": [
       "[78176568.83295017, 86601827.9592994, 79704172.60800107]"
      ]
     },
     "execution_count": 11,
     "metadata": {},
     "output_type": "execute_result"
    }
   ],
   "source": [
    "ro"
   ]
  },
  {
   "cell_type": "code",
   "execution_count": 12,
   "metadata": {},
   "outputs": [
    {
     "name": "stdout",
     "output_type": "stream",
     "text": [
      "ro[0]: 7.82E+07\n",
      "ro[1]: 8.66E+07\n",
      "ro[2]: 7.97E+07\n"
     ]
    }
   ],
   "source": [
    "from decimal import Decimal\n",
    "\n",
    "print('ro[0]: %.2E' % ro[0])\n",
    "print('ro[1]: %.2E' % ro[1])\n",
    "print('ro[2]: %.2E' % ro[2])"
   ]
  },
  {
   "cell_type": "code",
   "execution_count": 13,
   "metadata": {},
   "outputs": [
    {
     "name": "stdout",
     "output_type": "stream",
     "text": [
      "range is [1.59E+08, 1.732E+08)\n"
     ]
    }
   ],
   "source": [
    "l1_penalty_min_qz1 = 2 * ro[2]\n",
    "l1_penalty_max_qz1 = 2 * ro[1]  # exclusive\n",
    "\n",
    "print('range is [%.2E, %.3E)'% (l1_penalty_min_qz1, l1_penalty_max_qz1) )"
   ]
  },
  {
   "cell_type": "markdown",
   "metadata": {},
   "source": [
    "**Quiz Question 2**: What range of values of `l1_penalty` would set both w[1] and w[2] to zero, if we were to take a step in that coordinate?"
   ]
  },
  {
   "cell_type": "code",
   "execution_count": 14,
   "metadata": {},
   "outputs": [
    {
     "name": "stdout",
     "output_type": "stream",
     "text": [
      "range is [1.732E+08, infinity)\n"
     ]
    }
   ],
   "source": [
    "l1_penalty_min_qz2 = 2 * ro[1]\n",
    "\n",
    "print('range is [%.3E, infinity)' % (l1_penalty_min_qz2))"
   ]
  },
  {
   "cell_type": "markdown",
   "metadata": {},
   "source": [
    "So we can say that `ro[i]` quantifies the significance of the i-th feature: the larger `ro[i]` is, the more likely it is for the i-th feature to be retained."
   ]
  },
  {
   "cell_type": "markdown",
   "metadata": {},
   "source": [
    "## Single Coordinate Descent Step\n",
    "\n",
    "Using the formula above, implement coordinate descent that minimizes the cost function over a single feature i. Note that the intercept (weight 0) is not regularized. The function should accept feature matrix, output, current weights, l1 penalty, and index of feature to optimize over. The function should return new weight for feature i.\n",
    "\n",
    "e.g. in Python:"
   ]
  },
  {
   "cell_type": "code",
   "execution_count": 15,
   "metadata": {},
   "outputs": [],
   "source": [
    "def lasso_coordinate_descent_step(i, feature_matrix, output, weights, l1_penalty):\n",
    "    \"\"\"\n",
    "    : type i: integer\n",
    "    : type feature_matrix: 2d numpy array\n",
    "    : type output: 1d numpy array\n",
    "    : type weights: 1d numpy array\n",
    "    : type l1_penalty: float\n",
    "    : rtype new_weight_i: float\n",
    "    \"\"\"\n",
    "    # compute prediction\n",
    "    prediction = predict_output(feature_matrix, weights)\n",
    "    ro_i = np.sum(feature_matrix[:, i] * (output - prediction + weights[i] * feature_matrix[:, i]))\n",
    "    \n",
    "    if i == 0: # intercept -- do not regularize\n",
    "        new_weight_i = ro_i\n",
    "    elif ro_i < -l1_penalty/2.:\n",
    "        new_weight_i = ro_i + l1_penalty/2.\n",
    "    elif ro_i > l1_penalty/2.:\n",
    "        new_weight_i = ro_i - l1_penalty/2.\n",
    "    else:\n",
    "        new_weight_i = 0.\n",
    "    \n",
    "    return new_weight_i"
   ]
  },
  {
   "cell_type": "markdown",
   "metadata": {},
   "source": [
    "If you are using Numpy, test your function with the following snippet:"
   ]
  },
  {
   "cell_type": "code",
   "execution_count": 16,
   "metadata": {},
   "outputs": [
    {
     "name": "stdout",
     "output_type": "stream",
     "text": [
      "0.4255588466910251\n"
     ]
    }
   ],
   "source": [
    "# should print 0.425558846691\n",
    "import math\n",
    "print(lasso_coordinate_descent_step(1, np.array([[3./math.sqrt(13),1./math.sqrt(10)],\n",
    "                   [2./math.sqrt(13),3./math.sqrt(10)]]), np.array([1., 1.]), np.array([1., 4.]), 0.1))"
   ]
  },
  {
   "cell_type": "markdown",
   "metadata": {},
   "source": [
    "## Cyclical coordinate descent\n",
    "\n",
    "Now that we have a function that optimizes the cost function over a single coordinate, let us implement cyclical coordinate descent where we optimize coordinates 0, 1, ..., (d-1) in order and repeat.\n",
    "\n",
    "When do we know to stop? Each time we scan all the coordinates (features) once, we measure the change in weight for each coordinate. If no coordinate changes by more than a specified threshold, we stop.\n",
    "\n",
    "For each iteration:\n",
    "\n",
    "* As you loop over features in order and perform coordinate descent, measure how much each coordinate changes.\n",
    "* After the loop, if the maximum change across all coordinates is falls below the tolerance, stop. Otherwise, go back to the previous step.\n",
    "\n",
    "Return weights\n",
    "\n",
    "The function should accept the following parameters:\n",
    "\n",
    "* Feature matrix\n",
    "* Output array\n",
    "* Initial weights\n",
    "* L1 penalty\n",
    "* Tolerance\n",
    "\n",
    "e.g. in Python:"
   ]
  },
  {
   "cell_type": "code",
   "execution_count": 17,
   "metadata": {},
   "outputs": [],
   "source": [
    "def lasso_cyclical_coordinate_descent(feature_matrix, output, initial_weights, l1_penalty, tolerance):\n",
    "    \"\"\"\n",
    "    : type feature_matrix: 2d numpy array\n",
    "    : type output: 1d numpy array\n",
    "    : type initial_weights: 1d numpy array\n",
    "    : type l1_penalty: float\n",
    "    : type tolerance: float\n",
    "    : rtype weights: 1d numpy array\n",
    "    \"\"\"\n",
    "    weights = initial_weights\n",
    "    len_w = len(weights)\n",
    "    j = 1\n",
    "    while True:\n",
    "        max_delta = 0\n",
    "        for i in range(len_w):\n",
    "            old_weight = weights[i]\n",
    "            new_weight = lasso_coordinate_descent_step(i, feature_matrix, output, weights, l1_penalty)\n",
    "            weights[i] = new_weight\n",
    "            delta_i = abs(new_weight - old_weight)\n",
    "            if delta_i > max_delta:\n",
    "                max_delta = delta_i\n",
    "        if j % 10 == 0 and j // 10 > 0:\n",
    "            print('round %d, max_delta is %.2f' % (j, max_delta))\n",
    "        if max_delta < tolerance:\n",
    "            break\n",
    "        j = j + 1\n",
    "    return weights"
   ]
  },
  {
   "cell_type": "markdown",
   "metadata": {},
   "source": [
    "Let us now go back to the simple model with 2 features: `sqft_living` and `bedrooms`. Using `get_numpy_data` (or equivalent), extract the feature matrix and the output array from the house dataframe. Then normalize the feature matrix using `normalized_features()` function.\n",
    "\n",
    "Using the following parameters, learn the weights on the sales dataset.\n",
    "\n",
    "* Initial weights = all zeros\n",
    "* L1 penalty = 1e7\n",
    "* Tolerance = 1.0"
   ]
  },
  {
   "cell_type": "markdown",
   "metadata": {},
   "source": [
    "**Quiz Question 3**: What is the RSS of the learned model on the normalized dataset?"
   ]
  },
  {
   "cell_type": "code",
   "execution_count": 18,
   "metadata": {},
   "outputs": [
    {
     "name": "stdout",
     "output_type": "stream",
     "text": [
      "round 10, max_delta is 2266212.32\n",
      "round 20, max_delta is 381663.88\n",
      "round 30, max_delta is 64278.04\n",
      "round 40, max_delta is 10825.01\n",
      "round 50, max_delta is 1822.21\n",
      "round 60, max_delta is 306.88\n",
      "round 70, max_delta is 50.94\n",
      "round 80, max_delta is 8.49\n",
      "round 90, max_delta is 1.43\n"
     ]
    }
   ],
   "source": [
    "feature_matrix, output_array = get_numpy_data(sales, ['sqft_living', 'bedrooms'], ['price'])\n",
    "normalized_features, norms = normalize_features(feature_matrix)\n",
    "\n",
    "weights_qz3 = lasso_cyclical_coordinate_descent(\n",
    "    normalized_features, \n",
    "    output_array[:, 0], \n",
    "    np.array([0, 0, 0]), \n",
    "    1e+7, \n",
    "    1.0)"
   ]
  },
  {
   "cell_type": "code",
   "execution_count": 19,
   "metadata": {},
   "outputs": [
    {
     "name": "stdout",
     "output_type": "stream",
     "text": [
      "RSS is 1.63E+15\n"
     ]
    }
   ],
   "source": [
    "err_qz3 = predict_output(normalized_features, weights_qz3) - output_array[:, 0]\n",
    "rss_qz3 = np.dot(err_qz3, err_qz3)\n",
    "print('RSS is %.2E' % rss_qz3)"
   ]
  },
  {
   "cell_type": "markdown",
   "metadata": {},
   "source": [
    "**Quiz Question 4**: Which features had weight zero at convergence?"
   ]
  },
  {
   "cell_type": "code",
   "execution_count": 20,
   "metadata": {},
   "outputs": [
    {
     "data": {
      "text/plain": [
       "array(['bedrooms'], dtype='<U11')"
      ]
     },
     "execution_count": 20,
     "metadata": {},
     "output_type": "execute_result"
    }
   ],
   "source": [
    "all_features_qz3 = np.array(['constant', 'sqft_living', 'bedrooms'])\n",
    "all_features_qz3[weights_qz3 == 0]"
   ]
  },
  {
   "cell_type": "markdown",
   "metadata": {},
   "source": [
    "## Evaluating LASSO fit with more features\n",
    "\n",
    "Let us split the sales dataset into training and test sets. If you are using GraphLab Create, call `random_split` with `.8` ratio and `seed=0.` Otherwise, please download the corresponding csv files from the downloads section.\n",
    "\n",
    "Create a normalized feature matrix from the TRAINING data with the following set of features.\n",
    "\n",
    "* bedrooms, bathrooms, sqft_living, sqft_lot, floors, waterfront, view, condition, grade, sqft_above, sqft_basement, yr_built, yr_renovated\n",
    "\n",
    "Make sure you store the norms for the normalization, since we’ll use them later.\n",
    "\n",
    "First, learn the weights with `l1_penalty=1e7`, on the training data. Initialize weights to all zeros, and set the `tolerance=1`. Call resulting weights `weights1e7`, you will need them later."
   ]
  },
  {
   "cell_type": "markdown",
   "metadata": {},
   "source": [
    "**Quiz Question 5**: What features had non-zero weight in this case?"
   ]
  },
  {
   "cell_type": "code",
   "execution_count": 21,
   "metadata": {},
   "outputs": [],
   "source": [
    "all_features_qz4 = ['bedrooms', 'bathrooms', 'sqft_living', 'sqft_lot', 'floors', 'waterfront', 'view', 'condition', 'grade', 'sqft_above', 'sqft_basement', 'yr_built', 'yr_renovated']\n",
    "\n",
    "feature_matrix, output_array = get_numpy_data(\n",
    "    train.astype({'floors': 'float64'}), \n",
    "    all_features_qz4, ['price'])"
   ]
  },
  {
   "cell_type": "code",
   "execution_count": 22,
   "metadata": {},
   "outputs": [],
   "source": [
    "normalized_features, norms = normalize_features(feature_matrix)"
   ]
  },
  {
   "cell_type": "code",
   "execution_count": 23,
   "metadata": {},
   "outputs": [
    {
     "name": "stdout",
     "output_type": "stream",
     "text": [
      "round 10, max_delta is 2706151.13\n",
      "round 20, max_delta is 222753.24\n",
      "round 30, max_delta is 40345.69\n",
      "round 40, max_delta is 7307.62\n",
      "round 50, max_delta is 1323.31\n",
      "round 60, max_delta is 239.10\n",
      "round 70, max_delta is 43.29\n",
      "round 80, max_delta is 8.38\n",
      "round 90, max_delta is 2.22\n"
     ]
    }
   ],
   "source": [
    "weights1e7 = lasso_cyclical_coordinate_descent(\n",
    "    normalized_features, \n",
    "    output_array[:, 0], \n",
    "    np.repeat(0, len(all_features_qz4)+1), \n",
    "    l1_penalty = 1e+7, \n",
    "    tolerance = 1)"
   ]
  },
  {
   "cell_type": "code",
   "execution_count": 24,
   "metadata": {},
   "outputs": [
    {
     "data": {
      "text/plain": [
       "array(['constant', 'bedrooms', 'bathrooms', 'sqft_living', 'sqft_lot',\n",
       "       'floors', 'waterfront', 'view', 'condition', 'grade', 'sqft_above',\n",
       "       'sqft_basement', 'yr_built', 'yr_renovated'], dtype='<U13')"
      ]
     },
     "execution_count": 24,
     "metadata": {},
     "output_type": "execute_result"
    }
   ],
   "source": [
    "all_features_np_qz4 = np.array(['constant'] + all_features_qz4)\n",
    "all_features_np_qz4"
   ]
  },
  {
   "cell_type": "code",
   "execution_count": 25,
   "metadata": {},
   "outputs": [
    {
     "data": {
      "text/plain": [
       "array(['constant', 'sqft_living', 'waterfront', 'view'], dtype='<U13')"
      ]
     },
     "execution_count": 25,
     "metadata": {},
     "output_type": "execute_result"
    }
   ],
   "source": [
    "all_features_np_qz4[weights1e7 != 0]"
   ]
  },
  {
   "cell_type": "markdown",
   "metadata": {},
   "source": [
    "Next, learn the weights with `l1_penalty=1e8`, on the training data. Initialize weights to all zeros, and set the `tolerance=1`. Call resulting weights `weights1e8`, you will need them later.\n",
    "\n",
    "**Quiz Question 6**: What features had non-zero weight in this case?"
   ]
  },
  {
   "cell_type": "code",
   "execution_count": 26,
   "metadata": {},
   "outputs": [],
   "source": [
    "weights1e8 = lasso_cyclical_coordinate_descent(\n",
    "    normalized_features, \n",
    "    output_array[:, 0], \n",
    "    np.repeat(0, len(all_features_qz4)+1), \n",
    "    l1_penalty = 1e+8, \n",
    "    tolerance = 1)"
   ]
  },
  {
   "cell_type": "code",
   "execution_count": 27,
   "metadata": {},
   "outputs": [
    {
     "data": {
      "text/plain": [
       "array([71114625,        0,        0,        0,        0,        0,\n",
       "              0,        0,        0,        0,        0,        0,\n",
       "              0,        0])"
      ]
     },
     "execution_count": 27,
     "metadata": {},
     "output_type": "execute_result"
    }
   ],
   "source": [
    "weights1e8"
   ]
  },
  {
   "cell_type": "code",
   "execution_count": 28,
   "metadata": {},
   "outputs": [
    {
     "data": {
      "text/plain": [
       "array(['constant'], dtype='<U13')"
      ]
     },
     "execution_count": 28,
     "metadata": {},
     "output_type": "execute_result"
    }
   ],
   "source": [
    "all_features_np_qz5 = np.array(['constant'] + all_features_qz4)\n",
    "all_features_np_qz5[weights1e8 != 0]"
   ]
  },
  {
   "cell_type": "markdown",
   "metadata": {},
   "source": [
    "Finally, learn the weights with `l1_penalty=1e4`, on the training data. Initialize weights to all zeros, and set the `tolerance=5e5`. Call resulting weights `weights1e4`, you will need them later. (This case will take quite a bit longer to converge than the others above.)\n",
    "\n",
    "**Quiz Question 7**: What features had non-zero weight in this case?"
   ]
  },
  {
   "cell_type": "code",
   "execution_count": 29,
   "metadata": {},
   "outputs": [
    {
     "name": "stdout",
     "output_type": "stream",
     "text": [
      "round 10, max_delta is 1647982.54\n",
      "round 20, max_delta is 1177722.10\n",
      "round 30, max_delta is 1092904.48\n",
      "round 40, max_delta is 965783.06\n",
      "round 50, max_delta is 832351.92\n",
      "round 60, max_delta is 717339.56\n",
      "round 70, max_delta is 623694.08\n",
      "round 80, max_delta is 552427.87\n",
      "round 90, max_delta is 497885.44\n"
     ]
    }
   ],
   "source": [
    "weights1e4 = lasso_cyclical_coordinate_descent(\n",
    "    normalized_features, \n",
    "    output_array[:, 0], \n",
    "    np.repeat(0, len(all_features_qz4)+1), \n",
    "    l1_penalty = 1e+4, \n",
    "    tolerance = 5e+5)"
   ]
  },
  {
   "cell_type": "code",
   "execution_count": 30,
   "metadata": {},
   "outputs": [
    {
     "data": {
      "text/plain": [
       "array([ 78564648, -22097380,  12791055,  93808080,  -2013171,  -4219159,\n",
       "         6482842,   7127409,   5001681,  14327499, -15770951,  -5159586,\n",
       "       -84495278,   2824439])"
      ]
     },
     "execution_count": 30,
     "metadata": {},
     "output_type": "execute_result"
    }
   ],
   "source": [
    "weights1e4"
   ]
  },
  {
   "cell_type": "code",
   "execution_count": 31,
   "metadata": {},
   "outputs": [
    {
     "data": {
      "text/plain": [
       "array(['constant', 'bedrooms', 'bathrooms', 'sqft_living', 'sqft_lot',\n",
       "       'floors', 'waterfront', 'view', 'condition', 'grade', 'sqft_above',\n",
       "       'sqft_basement', 'yr_built', 'yr_renovated'], dtype='<U13')"
      ]
     },
     "execution_count": 31,
     "metadata": {},
     "output_type": "execute_result"
    }
   ],
   "source": [
    "all_features_np_qz6 = np.array(['constant'] + all_features_qz4)\n",
    "all_features_np_qz6[weights1e4 != 0]"
   ]
  },
  {
   "cell_type": "markdown",
   "metadata": {},
   "source": [
    "## Rescaling learned weights"
   ]
  },
  {
   "cell_type": "markdown",
   "metadata": {},
   "source": [
    "Recall that we normalized our feature matrix, before learning the weights. To use these weights on a test set, we must normalize the test data in the same way. Alternatively, we can rescale the learned weights to include the normalization, so we never have to worry about normalizing the test data:\n",
    "\n",
    "In this case, we must scale the resulting weights so that we can make predictions with original features:\n",
    "\n",
    "* Store the norms of the original features to a vector called `norms`:\n",
    "\n",
    "`features, norms = normalize_features(features)`\n",
    "\n",
    "* Run Lasso on the normalized features and obtain a `weights` vector\n",
    "\n",
    "* Compute the weights for the original features by performing element-wise division, i.e.\n",
    "\n",
    "`weights_normalized = weights / norms`\n",
    "\n",
    "Now, we can apply `weights_normalized` to the test data, without normalizing it!"
   ]
  },
  {
   "cell_type": "markdown",
   "metadata": {},
   "source": [
    "Create a normalized version of each of the weights learned above. (`weights1e4`, `weights1e7`, `weights1e8`). To check your results, if you call `normalized_weights1e7` the normalized version of `weights1e7`, then\n",
    "\n",
    "`print(normalized_weights1e7[3])`\n",
    "\n",
    "should print `161.31745624837794`."
   ]
  },
  {
   "cell_type": "code",
   "execution_count": 32,
   "metadata": {},
   "outputs": [],
   "source": [
    "normalized_weights1e4 = weights1e4 / norms\n",
    "normalized_weights1e7 = weights1e7 / norms\n",
    "normalized_weights1e8 = weights1e8 / norms"
   ]
  },
  {
   "cell_type": "code",
   "execution_count": 33,
   "metadata": {},
   "outputs": [
    {
     "name": "stdout",
     "output_type": "stream",
     "text": [
      "161.31746840896935\n"
     ]
    }
   ],
   "source": [
    "print(normalized_weights1e7[3])"
   ]
  },
  {
   "cell_type": "markdown",
   "metadata": {},
   "source": [
    "## Evaluating each of the learned models on the test data"
   ]
  },
  {
   "cell_type": "markdown",
   "metadata": {},
   "source": [
    "Let's now evaluate the three models on the test data. Extract the feature matrix and output array from the **TEST** set. But this time, do **NOT** normalize the feature matrix. Instead, use the normalized version of weights to make predictions.\n",
    "\n",
    "Compute the RSS of each of the three normalized weights on the (unnormalized) feature matrix."
   ]
  },
  {
   "cell_type": "code",
   "execution_count": 34,
   "metadata": {},
   "outputs": [
    {
     "name": "stdout",
     "output_type": "stream",
     "text": [
      "rss_weights1e4: 2.28E+14\n",
      "rss_weights1e7: 2.76E+14\n",
      "rss_weights1e8: 5.37E+14\n"
     ]
    }
   ],
   "source": [
    "feature_matrix_test, output_array_test = get_numpy_data(\n",
    "    test.astype({'floors': 'float64'}), \n",
    "    all_features_qz4, ['price'])\n",
    "\n",
    "rss_weights1e4 = np.sum((predict_output(feature_matrix_test, normalized_weights1e4) - output_array_test[:, 0]) ** 2)\n",
    "rss_weights1e7 = np.sum((predict_output(feature_matrix_test, normalized_weights1e7) - output_array_test[:, 0]) ** 2)\n",
    "rss_weights1e8 = np.sum((predict_output(feature_matrix_test, normalized_weights1e8) - output_array_test[:, 0]) ** 2)\n",
    "\n",
    "print('rss_weights1e4: %.2E' % rss_weights1e4)\n",
    "print('rss_weights1e7: %.2E' % rss_weights1e7)\n",
    "print('rss_weights1e8: %.2E' % rss_weights1e8)"
   ]
  },
  {
   "cell_type": "markdown",
   "metadata": {},
   "source": [
    "**Quiz Question 8**: Which model performed best on the test data?"
   ]
  },
  {
   "cell_type": "markdown",
   "metadata": {},
   "source": [
    "weights1e4"
   ]
  }
 ],
 "metadata": {
  "kernelspec": {
   "display_name": "Python 3",
   "language": "python",
   "name": "python3"
  },
  "language_info": {
   "codemirror_mode": {
    "name": "ipython",
    "version": 3
   },
   "file_extension": ".py",
   "mimetype": "text/x-python",
   "name": "python",
   "nbconvert_exporter": "python",
   "pygments_lexer": "ipython3",
   "version": "3.7.1"
  }
 },
 "nbformat": 4,
 "nbformat_minor": 2
}
