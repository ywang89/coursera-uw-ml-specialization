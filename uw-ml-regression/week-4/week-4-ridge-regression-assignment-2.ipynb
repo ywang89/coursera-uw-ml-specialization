{
 "cells": [
  {
   "cell_type": "markdown",
   "metadata": {},
   "source": [
    "# Regression Week 4: Ridge Regression (gradient descent)"
   ]
  },
  {
   "cell_type": "markdown",
   "metadata": {},
   "source": [
    "In this notebook, you will implement ridge regression via gradient descent. You will:\n",
    "* Convert an SFrame into a Numpy array\n",
    "* Write a Numpy function to compute the derivative of the regression weights with respect to a single feature\n",
    "* Write gradient descent function to compute the regression weights given an initial weight vector, step size, tolerance, and L2 penalty"
   ]
  },
  {
   "cell_type": "markdown",
   "metadata": {},
   "source": [
    "# Import modules"
   ]
  },
  {
   "cell_type": "markdown",
   "metadata": {},
   "source": [
    "Make sure you have the latest version of GraphLab Create (>= 1.7)"
   ]
  },
  {
   "cell_type": "code",
   "execution_count": 1,
   "metadata": {},
   "outputs": [],
   "source": [
    "import numpy as np\n",
    "import pandas as pd"
   ]
  },
  {
   "cell_type": "markdown",
   "metadata": {},
   "source": [
    "# Load in house sales data\n",
    "\n",
    "Dataset is from house sales in King County, the region where the city of Seattle, WA is located."
   ]
  },
  {
   "cell_type": "code",
   "execution_count": 2,
   "metadata": {},
   "outputs": [],
   "source": [
    "dtype_dict = {'bathrooms':float, 'waterfront':int, 'sqft_above':int, 'sqft_living15':float, 'grade':int, 'yr_renovated':int, 'price':float, 'bedrooms':float, 'zipcode':str, 'long':float, 'sqft_lot15':float, 'sqft_living':float, 'floors':str, 'condition':int, 'lat':float, 'date':str, 'sqft_basement':int, 'yr_built':int, 'id':str, 'sqft_lot':int, 'view':int}\n",
    "\n",
    "sales = pd.read_csv('kc_house_data.csv',dtype=dtype_dict)"
   ]
  },
  {
   "cell_type": "markdown",
   "metadata": {},
   "source": [
    "If you’re using Python: to do the matrix operations required to perform a gradient descent we will be using the popular python library `numpy` which is a computational library specialized for operations on arrays. For students unfamiliar with numpy we have created a numpy tutorial (see useful resources). It is common to import numpy under the name ‘np’ for short, to do this execute: `import numpy as np`"
   ]
  },
  {
   "cell_type": "markdown",
   "metadata": {},
   "source": [
    "# Import useful functions from previous notebook"
   ]
  },
  {
   "cell_type": "markdown",
   "metadata": {},
   "source": [
    "Next, from Module 2, copy and paste the `get_numpy_data` function (or equivalent) that takes a dataframe, a list of features (e.g. [`sqft_living`, `bedrooms`]), to be used as inputs, and a name of the output (e.g. `price`). This function returns a `feature_matrix` (2D array) consisting of first a column of ones followed by columns containing the values of the input features in the data set in the same order as the input list. It alsos return an `output_array` which is an array of the values of the output in the data set (e.g. `price`)."
   ]
  },
  {
   "cell_type": "code",
   "execution_count": 4,
   "metadata": {},
   "outputs": [],
   "source": [
    "def get_numpy_data(data_frame, features, output):\n",
    "    data_frame = data_frame.assign(constant = 1)\n",
    "    # add the column 'constant' to the front of the features list so that we can extract it along with the others:\n",
    "    features = ['constant'] + features\n",
    "    feature_df = data_frame.loc[:, features]\n",
    "    # the following line will convert the features_df into a numpy matrix:\n",
    "    feature_matrix = feature_df.values\n",
    "    # assign the column of data_frame associated with the output to the SArray output_sarray\n",
    "    output_df = data_frame.loc[:, output]\n",
    "    # the following will convert the SArray into a numpy array by first converting it to a list\n",
    "    output_array = output_df.values\n",
    "    \n",
    "    return(feature_matrix, output_array)"
   ]
  },
  {
   "cell_type": "markdown",
   "metadata": {},
   "source": [
    "Similarly, copy and paste the `predict_output` function (or equivalent) from Module 2. This function accepts a 2D array `feature_matrix` and a 1D array `weights` and return a 1D array `predictions`."
   ]
  },
  {
   "cell_type": "code",
   "execution_count": 5,
   "metadata": {},
   "outputs": [],
   "source": [
    "def predict_output(feature_matrix, weights):\n",
    "    # assume feature_matrix is a numpy matrix containing the features as columns and weights is a corresponding numpy array\n",
    "    # create the predictions vector by using np.dot()\n",
    "    predictions = np.dot(feature_matrix, weights)\n",
    "    return(predictions)"
   ]
  },
  {
   "cell_type": "markdown",
   "metadata": {},
   "source": [
    "# Computing the Derivative"
   ]
  },
  {
   "cell_type": "markdown",
   "metadata": {},
   "source": [
    "We are now going to move to computing the derivative of the regression cost function. Recall that the cost function is the sum over the data points of the squared difference between an observed output and a predicted output, plus the L2 penalty term.\n",
    "```\n",
    "Cost(w)\n",
    "= SUM[ (prediction - output)^2 ]\n",
    "+ l2_penalty*(w[0]^2 + w[1]^2 + ... + w[k]^2).\n",
    "```\n",
    "\n",
    "Since the derivative of a sum is the sum of the derivatives, we can take the derivative of the first part (the RSS) as we did in the notebook for the unregularized case in Week 2 and add the derivative of the regularization part.  As we saw, the derivative of the RSS with respect to `w[i]` can be written as: \n",
    "```\n",
    "2*SUM[ error*[feature_i] ].\n",
    "```\n",
    "The derivative of the regularization term with respect to `w[i]` is:\n",
    "```\n",
    "2*l2_penalty*w[i].\n",
    "```\n",
    "Summing both, we get\n",
    "```\n",
    "2*SUM[ error*[feature_i] ] + 2*l2_penalty*w[i].\n",
    "```\n",
    "That is, the derivative for the weight for feature i is the sum (over data points) of 2 times the product of the error and the feature itself, plus `2*l2_penalty*w[i]`. \n",
    "\n",
    "**We will not regularize the constant.**  Thus, in the case of the constant, the derivative is just twice the sum of the errors (without the `2*l2_penalty*w[0]` term).\n",
    "\n",
    "Recall that twice the sum of the product of two vectors is just twice the dot product of the two vectors. Therefore the derivative for the weight for feature_i is just two times the dot product between the values of feature_i and the current errors, plus `2*l2_penalty*w[i]`.\n",
    "\n",
    "With this in mind complete the following derivative function which computes the derivative of the weight given the value of the feature (over all data points) and the errors (over all data points).  To decide when to we are dealing with the constant (so we don't regularize it) we added the extra parameter to the call `feature_is_constant` which you should set to `True` when computing the derivative of the constant and `False` otherwise."
   ]
  },
  {
   "cell_type": "code",
   "execution_count": 9,
   "metadata": {},
   "outputs": [],
   "source": [
    "def feature_derivative_ridge(errors, feature, weight, l2_penalty, feature_is_constant):\n",
    "    if feature_is_constant:\n",
    "        derivative = 2 * np.sum(errors)\n",
    "    else:\n",
    "        derivative = 2 * np.dot(errors, feature) + 2 * l2_penalty * weight\n",
    "    \n",
    "    return derivative"
   ]
  },
  {
   "cell_type": "markdown",
   "metadata": {},
   "source": [
    "To test your feature derivartive run the following:"
   ]
  },
  {
   "cell_type": "code",
   "execution_count": 10,
   "metadata": {},
   "outputs": [
    {
     "name": "stdout",
     "output_type": "stream",
     "text": [
      "-56554166815950.0\n",
      "-56554166815950.0\n",
      "\n",
      "-22446749330.0\n",
      "-22446749330.0\n"
     ]
    }
   ],
   "source": [
    "(example_features, example_output) = get_numpy_data(sales, ['sqft_living'], 'price') \n",
    "my_weights = np.array([1., 10.])\n",
    "test_predictions = predict_output(example_features, my_weights) \n",
    "errors = test_predictions - example_output # prediction errors\n",
    "\n",
    "# next two lines should print the same values\n",
    "print(feature_derivative_ridge(errors, example_features[:,1], my_weights[1], 1, False))\n",
    "print(np.sum(errors*example_features[:,1])*2+20.)\n",
    "print('')\n",
    "\n",
    "# next two lines should print the same values\n",
    "print(feature_derivative_ridge(errors, example_features[:,0], my_weights[0], 1, True))\n",
    "print(np.sum(errors)*2.)"
   ]
  },
  {
   "cell_type": "markdown",
   "metadata": {},
   "source": [
    "# Gradient Descent"
   ]
  },
  {
   "cell_type": "markdown",
   "metadata": {},
   "source": [
    "Now we will write a function that performs a gradient descent. The basic premise is simple. Given a starting point we update the current weights by moving in the negative gradient direction. Recall that the gradient is the direction of increase and therefore the negative gradient is the direction of decrease and we're trying to minimize a cost function.\n",
    "\n",
    "The amount by which we move in the negative gradient direction is called the ‘step size’. We stop when we are ‘sufficiently close’ to the optimum. Unlike in Module 2, this time we will set a maximum number of iterations and take gradient steps until we reach this maximum number. If no maximum number is supplied, the maximum should be set 100 by default. (Use default parameter values in Python.)\n",
    "\n",
    "With this in mind, write a gradient descent function using your derivative function above. For each step in the gradient descent, we update the weight for each feature before computing our stopping criteria. The function will take the following parameters:\n",
    "\n",
    "* 2D feature matrix\n",
    "* array of output values\n",
    "* initial weights\n",
    "* step size\n",
    "* L2 penalty\n",
    "* maximum number of iterations\n",
    "\n",
    "To make your job easier, we provide a skeleton in Python:"
   ]
  },
  {
   "cell_type": "code",
   "execution_count": 11,
   "metadata": {},
   "outputs": [],
   "source": [
    "def ridge_regression_gradient_descent(feature_matrix, output, initial_weights, step_size, l2_penalty, max_iterations=100):\n",
    "    print('Starting gradient descent with l2_penalty = ' + str(l2_penalty))\n",
    "    \n",
    "    weights = np.array(initial_weights) # make sure it's a numpy array\n",
    "    iteration = 0 # iteration counter\n",
    "    print_frequency = 1  # for adjusting frequency of debugging output\n",
    "    \n",
    "    #while not reached maximum number of iterations:\n",
    "    while iteration < max_iterations:\n",
    "        iteration += 1  # increment iteration counter\n",
    "        ### === code section for adjusting frequency of debugging output. ===\n",
    "        if iteration == 10:\n",
    "            print_frequency = 10\n",
    "        if iteration == 100:\n",
    "            print_frequency = 100\n",
    "        if iteration%print_frequency==0:\n",
    "            print('Iteration = ' + str(iteration))\n",
    "        ### === end code section ===\n",
    "        \n",
    "        # compute the predictions based on feature_matrix and weights using your predict_output() function\n",
    "        predictions = predict_output(feature_matrix, weights)\n",
    "\n",
    "        # compute the errors as predictions - output\n",
    "        errors = predictions - output\n",
    "\n",
    "        # from time to time, print the value of the cost function\n",
    "        if iteration%print_frequency==0:\n",
    "            print('Cost function = ', str(np.dot(errors,errors) + l2_penalty*(np.dot(weights,weights) - weights[0]**2)))\n",
    "        \n",
    "        for i in range(len(weights)): # loop over each weight\n",
    "            # Recall that feature_matrix[:,i] is the feature column associated with weights[i]\n",
    "            # compute the derivative for weight[i].\n",
    "            #(Remember: when i=0, you are computing the derivative of the constant!)\n",
    "            if i == 0:\n",
    "                derivative = feature_derivative_ridge(errors, feature_matrix[:, i], weights[i], l2_penalty, True)\n",
    "            else:\n",
    "                derivative = feature_derivative_ridge(errors, feature_matrix[:, i], weights[i], l2_penalty, False)\n",
    "\n",
    "            # subtract the step size times the derivative from the current weight\n",
    "            weights[i] -= derivative * step_size\n",
    "            \n",
    "    print('Done with gradient descent at iteration ', iteration)\n",
    "    print('Learned weights = ', str(weights))\n",
    "    return weights"
   ]
  },
  {
   "cell_type": "markdown",
   "metadata": {},
   "source": [
    "# Visualizing effect of L2 penalty"
   ]
  },
  {
   "cell_type": "markdown",
   "metadata": {},
   "source": [
    "The L2 penalty gets its name because it causes weights to have small L2 norms than otherwise. Let's see how large weights get penalized. Let us consider a simple model with 1 feature.\n",
    "\n",
    "* features: `sqft_living`\n",
    "* output: `price`"
   ]
  },
  {
   "cell_type": "markdown",
   "metadata": {},
   "source": [
    "Split the dataset into training set and test set. If you are using GraphLab Create, call `train_data,test_data = sales.random_split(.8,seed=0)`. Otherwise, please download the csv files from the download section."
   ]
  },
  {
   "cell_type": "code",
   "execution_count": 12,
   "metadata": {},
   "outputs": [],
   "source": [
    "train_data = pd.read_csv('kc_house_train_data.csv', dtype=dtype_dict)\n",
    "test_data = pd.read_csv('kc_house_test_data.csv', dtype=dtype_dict)"
   ]
  },
  {
   "cell_type": "markdown",
   "metadata": {},
   "source": [
    "Convert the training set and test set using the `get_numpy_data` function.e.g. in Python:"
   ]
  },
  {
   "cell_type": "code",
   "execution_count": 13,
   "metadata": {},
   "outputs": [],
   "source": [
    "simple_features = ['sqft_living']\n",
    "my_output = 'price'\n",
    "\n",
    "(simple_feature_matrix, output) = get_numpy_data(train_data, simple_features, my_output)\n",
    "(simple_test_feature_matrix, test_output) = get_numpy_data(test_data, simple_features, my_output)"
   ]
  },
  {
   "cell_type": "markdown",
   "metadata": {},
   "source": [
    "First, let’s consider no regularization. Set the L2 penalty to 0.0 and run your ridge regression algorithm to learn the weights of the simple model (described above). Use the following parameters:\n",
    "\n",
    "* step_size = 1e-12\n",
    "* max_iterations = 1000\n",
    "* initial_weights = all zeros\n",
    "\n",
    "Store the learned weights as `simple_weights_0_penalty`. We'll use them later."
   ]
  },
  {
   "cell_type": "code",
   "execution_count": 14,
   "metadata": {},
   "outputs": [],
   "source": [
    "initial_weights = np.array([0., 0.])\n",
    "step_size = 1e-12\n",
    "max_iterations=1000\n",
    "\n",
    "l2_penalty = 0.0"
   ]
  },
  {
   "cell_type": "code",
   "execution_count": 15,
   "metadata": {},
   "outputs": [
    {
     "name": "stdout",
     "output_type": "stream",
     "text": [
      "Starting gradient descent with l2_penalty = 0.0\n",
      "Iteration = 1\n",
      "Cost function =  7433051852335772.0\n",
      "Iteration = 2\n",
      "Cost function =  5394267213533688.0\n",
      "Iteration = 3\n",
      "Cost function =  4023237736286403.5\n",
      "Iteration = 4\n",
      "Cost function =  3101256183295487.0\n",
      "Iteration = 5\n",
      "Cost function =  2481247643601012.0\n",
      "Iteration = 6\n",
      "Cost function =  2064308076801447.0\n",
      "Iteration = 7\n",
      "Cost function =  1783927096156441.0\n",
      "Iteration = 8\n",
      "Cost function =  1595378201854742.0\n",
      "Iteration = 9\n",
      "Cost function =  1468583989698184.0\n",
      "Iteration = 10\n",
      "Cost function =  1383318190090051.0\n",
      "Iteration = 20\n",
      "Cost function =  1211562139024524.5\n",
      "Iteration = 30\n",
      "Cost function =  1208313761205656.5\n",
      "Iteration = 40\n",
      "Cost function =  1208252324779675.5\n",
      "Iteration = 50\n",
      "Cost function =  1208251162139724.5\n",
      "Iteration = 60\n",
      "Cost function =  1208251139442068.0\n",
      "Iteration = 70\n",
      "Cost function =  1208251138303840.8\n",
      "Iteration = 80\n",
      "Cost function =  1208251137573361.5\n",
      "Iteration = 90\n",
      "Cost function =  1208251136850594.0\n",
      "Iteration = 100\n",
      "Cost function =  1208251136127972.2\n",
      "Iteration = 200\n",
      "Cost function =  1208251128901788.5\n",
      "Iteration = 300\n",
      "Cost function =  1208251121675613.0\n",
      "Iteration = 400\n",
      "Cost function =  1208251114449445.5\n",
      "Iteration = 500\n",
      "Cost function =  1208251107223286.5\n",
      "Iteration = 600\n",
      "Cost function =  1208251099997135.5\n",
      "Iteration = 700\n",
      "Cost function =  1208251092770993.5\n",
      "Iteration = 800\n",
      "Cost function =  1208251085544859.2\n",
      "Iteration = 900\n",
      "Cost function =  1208251078318733.0\n",
      "Iteration = 1000\n",
      "Cost function =  1208251071092615.2\n",
      "Done with gradient descent at iteration  1000\n",
      "Learned weights =  [-1.63113515e-01  2.63024369e+02]\n"
     ]
    }
   ],
   "source": [
    "simple_weights_0_penalty = ridge_regression_gradient_descent(simple_feature_matrix, output, initial_weights, step_size, l2_penalty, max_iterations)"
   ]
  },
  {
   "cell_type": "markdown",
   "metadata": {},
   "source": [
    "Next, let’s consider high regularization. Set the `l2_penalty` to `1e+11` and run your ridge regression to learn the weights of the simple model. Use the same parameters as above. Call your weights:\n",
    "\n",
    "`simple_weights_high_penalty`\n",
    "\n",
    "we'll use them later."
   ]
  },
  {
   "cell_type": "code",
   "execution_count": 16,
   "metadata": {},
   "outputs": [
    {
     "name": "stdout",
     "output_type": "stream",
     "text": [
      "Starting gradient descent with l2_penalty = 100000000000.0\n",
      "Iteration = 1\n",
      "Cost function =  7433051852335772.0\n",
      "Iteration = 2\n",
      "Cost function =  5618303898910948.0\n",
      "Iteration = 3\n",
      "Cost function =  4920613278301801.0\n",
      "Iteration = 4\n",
      "Cost function =  4652381942678799.0\n",
      "Iteration = 5\n",
      "Cost function =  4549258764034560.0\n",
      "Iteration = 6\n",
      "Cost function =  4509612390884944.0\n",
      "Iteration = 7\n",
      "Cost function =  4494370050276983.0\n",
      "Iteration = 8\n",
      "Cost function =  4488509984023467.0\n",
      "Iteration = 9\n",
      "Cost function =  4486256988524010.0\n",
      "Iteration = 10\n",
      "Cost function =  4485390752666540.0\n",
      "Iteration = 20\n",
      "Cost function =  4484848868025912.0\n",
      "Iteration = 30\n",
      "Cost function =  4484847880470641.0\n",
      "Iteration = 40\n",
      "Cost function =  4484846931073274.5\n",
      "Iteration = 50\n",
      "Cost function =  4484845981678999.0\n",
      "Iteration = 60\n",
      "Cost function =  4484845032285122.0\n",
      "Iteration = 70\n",
      "Cost function =  4484844082891643.0\n",
      "Iteration = 80\n",
      "Cost function =  4484843133498564.0\n",
      "Iteration = 90\n",
      "Cost function =  4484842184105883.0\n",
      "Iteration = 100\n",
      "Cost function =  4484841234713601.0\n",
      "Iteration = 200\n",
      "Cost function =  4484831740812717.0\n",
      "Iteration = 300\n",
      "Cost function =  4484822246951714.0\n",
      "Iteration = 400\n",
      "Cost function =  4484812753130591.0\n",
      "Iteration = 500\n",
      "Cost function =  4484803259349348.0\n",
      "Iteration = 600\n",
      "Cost function =  4484793765607986.0\n",
      "Iteration = 700\n",
      "Cost function =  4484784271906503.0\n",
      "Iteration = 800\n",
      "Cost function =  4484774778244900.0\n",
      "Iteration = 900\n",
      "Cost function =  4484765284623177.0\n",
      "Iteration = 1000\n",
      "Cost function =  4484755791041333.5\n",
      "Done with gradient descent at iteration  1000\n",
      "Learned weights =  [  9.76730382 124.57217567]\n"
     ]
    }
   ],
   "source": [
    "l2_penalty = 1e+11\n",
    "\n",
    "simple_weights_high_penalty = ridge_regression_gradient_descent(simple_feature_matrix, output, initial_weights, step_size, l2_penalty, max_iterations)"
   ]
  },
  {
   "cell_type": "markdown",
   "metadata": {},
   "source": [
    "If you have access to matplotlib, the following piece of code will plot the two learned models. (The blue line is for the model with no regularization and the red line is for the one with high regularization.)"
   ]
  },
  {
   "cell_type": "code",
   "execution_count": 17,
   "metadata": {},
   "outputs": [
    {
     "data": {
      "text/plain": [
       "[<matplotlib.lines.Line2D at 0x121096c88>,\n",
       " <matplotlib.lines.Line2D at 0x121096eb8>,\n",
       " <matplotlib.lines.Line2D at 0x121096fd0>,\n",
       " <matplotlib.lines.Line2D at 0x1210a75c0>,\n",
       " <matplotlib.lines.Line2D at 0x1210a7710>,\n",
       " <matplotlib.lines.Line2D at 0x1210a7c50>]"
      ]
     },
     "execution_count": 17,
     "metadata": {},
     "output_type": "execute_result"
    },
    {
     "data": {
      "image/png": "[encoded data removed]",
      "text/plain": [
       "<Figure size 432x288 with 1 Axes>"
      ]
     },
     "metadata": {
      "needs_background": "light"
     },
     "output_type": "display_data"
    }
   ],
   "source": [
    "import matplotlib.pyplot as plt\n",
    "%matplotlib inline\n",
    "plt.plot(simple_feature_matrix,output,'k.',\n",
    "        simple_feature_matrix,predict_output(simple_feature_matrix, simple_weights_0_penalty),'b-',\n",
    "        simple_feature_matrix,predict_output(simple_feature_matrix, simple_weights_high_penalty),'r-')"
   ]
  },
  {
   "cell_type": "markdown",
   "metadata": {},
   "source": [
    "Compute the RSS on the TEST data for the following three sets of weights:\n",
    "1. The initial weights (all zeros)\n",
    "2. The weights learned with no regularization\n",
    "3. The weights learned with high regularization\n",
    "\n",
    "Which weights perform best?"
   ]
  },
  {
   "cell_type": "code",
   "execution_count": 18,
   "metadata": {},
   "outputs": [],
   "source": [
    "from decimal import Decimal"
   ]
  },
  {
   "cell_type": "code",
   "execution_count": 19,
   "metadata": {},
   "outputs": [
    {
     "data": {
      "text/plain": [
       "'1.78E+15'"
      ]
     },
     "execution_count": 19,
     "metadata": {},
     "output_type": "execute_result"
    }
   ],
   "source": [
    "errors_1 = predict_output(simple_test_feature_matrix, initial_weights) - test_output\n",
    "rss_1 = np.dot(errors_1, errors_1)\n",
    "'%.2E' % rss_1"
   ]
  },
  {
   "cell_type": "code",
   "execution_count": 20,
   "metadata": {},
   "outputs": [
    {
     "data": {
      "text/plain": [
       "'2.76E+14'"
      ]
     },
     "execution_count": 20,
     "metadata": {},
     "output_type": "execute_result"
    }
   ],
   "source": [
    "errors_2 = predict_output(simple_test_feature_matrix, simple_weights_0_penalty) - test_output\n",
    "rss_2 = np.dot(errors_2, errors_2)\n",
    "'%.2E' % rss_2"
   ]
  },
  {
   "cell_type": "code",
   "execution_count": 21,
   "metadata": {},
   "outputs": [
    {
     "data": {
      "text/plain": [
       "'6.95E+14'"
      ]
     },
     "execution_count": 21,
     "metadata": {},
     "output_type": "execute_result"
    }
   ],
   "source": [
    "errors_3 = predict_output(simple_test_feature_matrix, simple_weights_high_penalty) - test_output\n",
    "rss_3 = np.dot(errors_3, errors_3)\n",
    "'%.2E' % rss_3"
   ]
  },
  {
   "cell_type": "markdown",
   "metadata": {},
   "source": [
    "***QUIZ QUESTIONS***\n",
    "1. What is the value of the coefficient for `sqft_living` that you learned with no regularization, rounded to 1 decimal place?  What about the one with high regularization?"
   ]
  },
  {
   "cell_type": "code",
   "execution_count": 22,
   "metadata": {},
   "outputs": [
    {
     "name": "stdout",
     "output_type": "stream",
     "text": [
      "263.0\n",
      "124.6\n"
     ]
    }
   ],
   "source": [
    "print(round(simple_weights_0_penalty[1], 1))\n",
    "print(round(simple_weights_high_penalty[1], 1))"
   ]
  },
  {
   "cell_type": "markdown",
   "metadata": {},
   "source": [
    "2. Comparing the lines you fit with the with no regularization versus high regularization, which one is steeper?"
   ]
  },
  {
   "cell_type": "markdown",
   "metadata": {},
   "source": [
    "No regularization"
   ]
  },
  {
   "cell_type": "markdown",
   "metadata": {},
   "source": [
    "3. What are the RSS on the test data for each of the set of weights above (initial, no regularization, high regularization)? "
   ]
  },
  {
   "cell_type": "code",
   "execution_count": 23,
   "metadata": {},
   "outputs": [
    {
     "name": "stdout",
     "output_type": "stream",
     "text": [
      "1.78E+15\n",
      "2.76E+14\n",
      "6.95E+14\n"
     ]
    }
   ],
   "source": [
    "print('%.2E' % rss_1)\n",
    "print('%.2E' % rss_2)\n",
    "print('%.2E' % rss_3)"
   ]
  },
  {
   "cell_type": "markdown",
   "metadata": {},
   "source": [
    "# Running a multiple regression with L2 penalty"
   ]
  },
  {
   "cell_type": "markdown",
   "metadata": {},
   "source": [
    "Let us now consider a model with 2 features: `['sqft_living', 'sqft_living15']`."
   ]
  },
  {
   "cell_type": "markdown",
   "metadata": {},
   "source": [
    "First, create Numpy versions of your training and test data with these two features. "
   ]
  },
  {
   "cell_type": "code",
   "execution_count": 24,
   "metadata": {},
   "outputs": [],
   "source": [
    "model_features = ['sqft_living', 'sqft_living15']\n",
    "my_output = 'price'\n",
    "\n",
    "(feature_matrix, output) = get_numpy_data(train_data, model_features, my_output)\n",
    "(test_feature_matrix, test_output) = get_numpy_data(test_data, model_features, my_output)"
   ]
  },
  {
   "cell_type": "markdown",
   "metadata": {},
   "source": [
    "We need to re-inialize the weights, since we have one extra parameter. Let us also set the step size and maximum number of iterations."
   ]
  },
  {
   "cell_type": "code",
   "execution_count": 25,
   "metadata": {},
   "outputs": [],
   "source": [
    "initial_weights = np.array([0.0,0.0,0.0])\n",
    "step_size = 1e-12\n",
    "max_iterations = 1000"
   ]
  },
  {
   "cell_type": "markdown",
   "metadata": {},
   "source": [
    "First, let's consider no regularization.  Set the `l2_penalty` to `0.0` and run your ridge regression algorithm to learn the weights of your model.  Call your weights:\n",
    "\n",
    "`multiple_weights_0_penalty`"
   ]
  },
  {
   "cell_type": "code",
   "execution_count": 26,
   "metadata": {},
   "outputs": [
    {
     "name": "stdout",
     "output_type": "stream",
     "text": [
      "Starting gradient descent with l2_penalty = 0.0\n",
      "Iteration = 1\n",
      "Cost function =  7433051852335772.0\n",
      "Iteration = 2\n",
      "Cost function =  4056752332045943.0\n",
      "Iteration = 3\n",
      "Cost function =  2529565114525309.5\n",
      "Iteration = 4\n",
      "Cost function =  1838556694300506.8\n",
      "Iteration = 5\n",
      "Cost function =  1525675575150296.5\n",
      "Iteration = 6\n",
      "Cost function =  1383789498571783.5\n",
      "Iteration = 7\n",
      "Cost function =  1319232606146273.8\n",
      "Iteration = 8\n",
      "Cost function =  1289648871879140.5\n",
      "Iteration = 9\n",
      "Cost function =  1275884723913737.0\n",
      "Iteration = 10\n",
      "Cost function =  1269278807397619.5\n",
      "Iteration = 20\n",
      "Cost function =  1257812386017016.2\n",
      "Iteration = 30\n",
      "Cost function =  1251954570861556.5\n",
      "Iteration = 40\n",
      "Cost function =  1246755422656426.0\n",
      "Iteration = 50\n",
      "Cost function =  1242139508166548.5\n",
      "Iteration = 60\n",
      "Cost function =  1238041400480994.0\n",
      "Iteration = 70\n",
      "Cost function =  1234403012742170.8\n",
      "Iteration = 80\n",
      "Cost function =  1231172774196731.5\n",
      "Iteration = 90\n",
      "Cost function =  1228304899227735.5\n",
      "Iteration = 100\n",
      "Cost function =  1225758738385979.0\n",
      "Iteration = 200\n",
      "Cost function =  1211738880290897.0\n",
      "Iteration = 300\n",
      "Cost function =  1207473079755049.8\n",
      "Iteration = 400\n",
      "Cost function =  1206175124539964.8\n",
      "Iteration = 500\n",
      "Cost function =  1205780188995876.5\n",
      "Iteration = 600\n",
      "Cost function =  1205660013231388.8\n",
      "Iteration = 700\n",
      "Cost function =  1205623438011734.0\n",
      "Iteration = 800\n",
      "Cost function =  1205612299743252.2\n",
      "Iteration = 900\n",
      "Cost function =  1205608901119130.8\n",
      "Iteration = 1000\n",
      "Cost function =  1205607857419329.5\n",
      "Done with gradient descent at iteration  1000\n",
      "Learned weights =  [ -0.35743483 243.05416982  22.41481497]\n"
     ]
    }
   ],
   "source": [
    "l2_penalty = 0.0\n",
    "\n",
    "multiple_weights_0_penalty = ridge_regression_gradient_descent(feature_matrix, output, initial_weights, step_size, l2_penalty, max_iterations)"
   ]
  },
  {
   "cell_type": "markdown",
   "metadata": {},
   "source": [
    "Next, let's consider high regularization.  Set the `l2_penalty` to `1e11` and run your ridge regression algorithm to learn the weights of your model.  Call your weights:\n",
    "\n",
    "`multiple_weights_high_penalty`"
   ]
  },
  {
   "cell_type": "code",
   "execution_count": 27,
   "metadata": {},
   "outputs": [
    {
     "name": "stdout",
     "output_type": "stream",
     "text": [
      "Starting gradient descent with l2_penalty = 100000000000.0\n",
      "Iteration = 1\n",
      "Cost function =  7433051852335772.0\n",
      "Iteration = 2\n",
      "Cost function =  4460489790922031.0\n",
      "Iteration = 3\n",
      "Cost function =  3796674469325301.0\n",
      "Iteration = 4\n",
      "Cost function =  3648319530880128.0\n",
      "Iteration = 5\n",
      "Cost function =  3615091103648369.0\n",
      "Iteration = 6\n",
      "Cost function =  3607602742943372.5\n",
      "Iteration = 7\n",
      "Cost function =  3605886322588678.0\n",
      "Iteration = 8\n",
      "Cost function =  3605474874959446.0\n",
      "Iteration = 9\n",
      "Cost function =  3605365168191212.0\n",
      "Iteration = 10\n",
      "Cost function =  3605329402609966.0\n",
      "Iteration = 20\n",
      "Cost function =  3605294281447482.5\n",
      "Iteration = 30\n",
      "Cost function =  3605293537691883.0\n",
      "Iteration = 40\n",
      "Cost function =  3605293083174690.0\n",
      "Iteration = 50\n",
      "Cost function =  3605292631531144.0\n",
      "Iteration = 60\n",
      "Cost function =  3605292179916288.0\n",
      "Iteration = 70\n",
      "Cost function =  3605291728301859.0\n",
      "Iteration = 80\n",
      "Cost function =  3605291276687576.0\n",
      "Iteration = 90\n",
      "Cost function =  3605290825073434.5\n",
      "Iteration = 100\n",
      "Cost function =  3605290373459437.0\n",
      "Iteration = 200\n",
      "Cost function =  3605285857327310.0\n",
      "Iteration = 300\n",
      "Cost function =  3605281341209459.0\n",
      "Iteration = 400\n",
      "Cost function =  3605276825105885.5\n",
      "Iteration = 500\n",
      "Cost function =  3605272309016589.0\n",
      "Iteration = 600\n",
      "Cost function =  3605267792941569.5\n",
      "Iteration = 700\n",
      "Cost function =  3605263276880827.0\n",
      "Iteration = 800\n",
      "Cost function =  3605258760834361.0\n",
      "Iteration = 900\n",
      "Cost function =  3605254244802171.5\n",
      "Iteration = 1000\n",
      "Cost function =  3605249728784259.5\n",
      "Done with gradient descent at iteration  1000\n",
      "Learned weights =  [ 6.74296579 91.48927365 78.43658766]\n"
     ]
    }
   ],
   "source": [
    "l2_penalty = 1e+11\n",
    "\n",
    "multiple_weights_high_penalty = ridge_regression_gradient_descent(feature_matrix, output, initial_weights, step_size, l2_penalty, max_iterations)"
   ]
  },
  {
   "cell_type": "markdown",
   "metadata": {},
   "source": [
    "Compute the RSS on the TEST data for the following three sets of weights:\n",
    "1. The initial weights (all zeros)\n",
    "2. The weights learned with no regularization\n",
    "3. The weights learned with high regularization\n",
    "\n",
    "Which weights perform best?"
   ]
  },
  {
   "cell_type": "code",
   "execution_count": 28,
   "metadata": {},
   "outputs": [],
   "source": [
    "def calculate_test_rss(test_feature_matrix, test_output, weights):\n",
    "    errors = predict_output(test_feature_matrix, weights) - test_output\n",
    "    rss = np.dot(errors, errors)\n",
    "    return rss"
   ]
  },
  {
   "cell_type": "code",
   "execution_count": 29,
   "metadata": {},
   "outputs": [],
   "source": [
    "rss_all_zero = calculate_test_rss(test_feature_matrix, test_output, initial_weights)"
   ]
  },
  {
   "cell_type": "code",
   "execution_count": 30,
   "metadata": {},
   "outputs": [],
   "source": [
    "rss_0_penalty = calculate_test_rss(test_feature_matrix, test_output, multiple_weights_0_penalty)"
   ]
  },
  {
   "cell_type": "code",
   "execution_count": 31,
   "metadata": {},
   "outputs": [],
   "source": [
    "rss_high_penalty = calculate_test_rss(test_feature_matrix, test_output, multiple_weights_high_penalty)"
   ]
  },
  {
   "cell_type": "code",
   "execution_count": 32,
   "metadata": {},
   "outputs": [
    {
     "data": {
      "text/plain": [
       "'1.78E+15'"
      ]
     },
     "execution_count": 32,
     "metadata": {},
     "output_type": "execute_result"
    }
   ],
   "source": [
    "'%.2E' % round(max(rss_all_zero, rss_0_penalty, rss_high_penalty), 2)"
   ]
  },
  {
   "cell_type": "markdown",
   "metadata": {},
   "source": [
    "Predict the house price for the 1st house in the test set using the no regularization and high regularization models. (Remember that python starts indexing from 0.) How far is the prediction from the actual price?  Which weights perform best for the 1st house?"
   ]
  },
  {
   "cell_type": "code",
   "execution_count": 33,
   "metadata": {},
   "outputs": [
    {
     "data": {
      "text/plain": [
       "'7.75E+04'"
      ]
     },
     "execution_count": 33,
     "metadata": {},
     "output_type": "execute_result"
    }
   ],
   "source": [
    "error_index_0_no_penalty = predict_output(test_feature_matrix[0, :], multiple_weights_0_penalty) - test_output[0]\n",
    "'%.2E' % error_index_0_no_penalty"
   ]
  },
  {
   "cell_type": "code",
   "execution_count": 34,
   "metadata": {},
   "outputs": [
    {
     "data": {
      "text/plain": [
       "'-3.95E+04'"
      ]
     },
     "execution_count": 34,
     "metadata": {},
     "output_type": "execute_result"
    }
   ],
   "source": [
    "error_index_0_high_penalty = predict_output(test_feature_matrix[0, :], multiple_weights_high_penalty) - test_output[0]\n",
    "'%.2E' % error_index_0_high_penalty"
   ]
  },
  {
   "cell_type": "markdown",
   "metadata": {
    "collapsed": true
   },
   "source": [
    "***QUIZ QUESTIONS***\n",
    "1. What is the value of the coefficient for `sqft_living` that you learned with no regularization, rounded to 1 decimal place?  What about the one with high regularization?"
   ]
  },
  {
   "cell_type": "code",
   "execution_count": 35,
   "metadata": {
    "scrolled": true
   },
   "outputs": [
    {
     "name": "stdout",
     "output_type": "stream",
     "text": [
      "243.1\n",
      "91.5\n"
     ]
    }
   ],
   "source": [
    "print(round(multiple_weights_0_penalty[1], 1))\n",
    "print(round(multiple_weights_high_penalty[1], 1))"
   ]
  },
  {
   "cell_type": "markdown",
   "metadata": {
    "collapsed": true
   },
   "source": [
    "2. What are the RSS on the test data for each of the set of weights above (initial, no regularization, high regularization)? "
   ]
  },
  {
   "cell_type": "code",
   "execution_count": 36,
   "metadata": {},
   "outputs": [
    {
     "name": "stdout",
     "output_type": "stream",
     "text": [
      "1.78E+15\n",
      "2.74E+14\n",
      "5.00E+14\n"
     ]
    }
   ],
   "source": [
    "print('%.2E' % rss_all_zero)\n",
    "print('%.2E' % rss_0_penalty)\n",
    "print('%.2E' % rss_high_penalty)"
   ]
  },
  {
   "cell_type": "markdown",
   "metadata": {
    "collapsed": true
   },
   "source": [
    "3. We make prediction for the first house in the test set using two sets of weights (no regularization vs high regularization). Which weights make better prediction <u>for that particular house</u>?"
   ]
  },
  {
   "cell_type": "markdown",
   "metadata": {
    "collapsed": true
   },
   "source": [
    "`high regularization`"
   ]
  }
 ],
 "metadata": {
  "kernelspec": {
   "display_name": "Python 3",
   "language": "python",
   "name": "python3"
  },
  "language_info": {
   "codemirror_mode": {
    "name": "ipython",
    "version": 3
   },
   "file_extension": ".py",
   "mimetype": "text/x-python",
   "name": "python",
   "nbconvert_exporter": "python",
   "pygments_lexer": "ipython3",
   "version": "3.7.1"
  }
 },
 "nbformat": 4,
 "nbformat_minor": 1
}
